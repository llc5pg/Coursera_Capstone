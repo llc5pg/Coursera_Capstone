{
  "nbformat": 4,
  "nbformat_minor": 0,
  "metadata": {
    "colab": {
      "name": "ds_capstone_week5.ipynb",
      "provenance": [],
      "collapsed_sections": []
    },
    "kernelspec": {
      "name": "python3",
      "display_name": "Python 3"
    }
  },
  "cells": [
    {
      "cell_type": "markdown",
      "metadata": {
        "id": "mfaFzJ5Xmr92",
        "colab_type": "text"
      },
      "source": [
        "# This notebook is for the Data Science Capstone Project (In order to run this notebook, Google Colab environment must be used.)"
      ]
    },
    {
      "cell_type": "markdown",
      "metadata": {
        "id": "4P0ljM8NDOJU",
        "colab_type": "text"
      },
      "source": [
        "## 1. Introduction/Business Problem "
      ]
    },
    {
      "cell_type": "markdown",
      "metadata": {
        "id": "aEhxCE4WDPqE",
        "colab_type": "text"
      },
      "source": [
        "Many people working in the San Francisco Bay Area are employed at top technology companies. The commute to work is sometimes congested and people prefer to live closer to their work place to reduce commute time.\n",
        "\n",
        "This study investigates the number of choices of apartments within a mile from the headquarters of Apple, Google and Intel."
      ]
    },
    {
      "cell_type": "markdown",
      "metadata": {
        "id": "7yeE8IowDTuw",
        "colab_type": "text"
      },
      "source": [
        "## 2. Data"
      ]
    },
    {
      "cell_type": "markdown",
      "metadata": {
        "id": "Muom98jhDZVQ",
        "colab_type": "text"
      },
      "source": [
        "The data used in this study are dervied from data collected by using the Foursquare API."
      ]
    },
    {
      "cell_type": "markdown",
      "metadata": {
        "id": "F9DD_K-VDZ9b",
        "colab_type": "text"
      },
      "source": [
        "## 3. Methodology"
      ]
    },
    {
      "cell_type": "markdown",
      "metadata": {
        "id": "OoS1p1TxJ0Pr",
        "colab_type": "text"
      },
      "source": [
        "The methodology is to use Foursquare API to list the number of different apartmnet complexes located within one mile from Apple, Google and Intel headquarters in the San Francisco Bay Area. The number for each company can then be compared."
      ]
    },
    {
      "cell_type": "markdown",
      "metadata": {
        "id": "6SU8rn4uLxfl",
        "colab_type": "text"
      },
      "source": [
        "### a. Apple, Cupertino"
      ]
    },
    {
      "cell_type": "code",
      "metadata": {
        "id": "OnO6j6g-mry4",
        "colab_type": "code",
        "colab": {
          "base_uri": "https://localhost:8080/",
          "height": 85
        },
        "outputId": "c38a2fae-e73d-4a57-e865-bbe932be7a77"
      },
      "source": [
        "import requests # library to handle requests\n",
        "import pandas as pd # library for data analsysis\n",
        "import numpy as np # library to handle data in a vectorized manner\n",
        "import random # library for random number generation\n",
        "\n",
        "#!conda install -c conda-forge geopy --yes \n",
        "!pip install geopy\n",
        "from geopy.geocoders import Nominatim # module to convert an address into latitude and longitude values\n",
        "\n",
        "# libraries for displaying images\n",
        "from IPython.display import Image \n",
        "from IPython.core.display import HTML \n",
        "    \n",
        "# tranforming json file into a pandas dataframe library\n",
        "from pandas.io.json import json_normalize\n",
        "\n",
        "#!conda install -c conda-forge folium=0.5.0 --yes\n",
        "import folium # plotting library\n",
        "\n",
        "print('Folium installed')\n",
        "print('Libraries imported.')"
      ],
      "execution_count": 45,
      "outputs": [
        {
          "output_type": "stream",
          "text": [
            "Requirement already satisfied: geopy in /usr/local/lib/python3.6/dist-packages (1.17.0)\n",
            "Requirement already satisfied: geographiclib<2,>=1.49 in /usr/local/lib/python3.6/dist-packages (from geopy) (1.50)\n",
            "Folium installed\n",
            "Libraries imported.\n"
          ],
          "name": "stdout"
        }
      ]
    },
    {
      "cell_type": "code",
      "metadata": {
        "id": "hHKkbqntnUmW",
        "colab_type": "code",
        "colab": {
          "base_uri": "https://localhost:8080/",
          "height": 68
        },
        "outputId": "f6432715-cc99-49d9-f388-7d90e6af3727"
      },
      "source": [
        "CLIENT_ID = 'Q3MQR20QDUUIGD3TVLRWXJNLFB0BVPQLAEGF5QAOUFVYI0YB' # your Foursquare ID\n",
        "CLIENT_SECRET = 'QUUUG4MCZJAXY1TKY2L4C4NMG4HLSI2TZAHBGXQJB4P3VTET' # your Foursquare Secret\n",
        "VERSION = '20180604'\n",
        "LIMIT = 30\n",
        "print('Your credentails:')\n",
        "print('CLIENT_ID: ' + CLIENT_ID)\n",
        "print('CLIENT_SECRET:' + CLIENT_SECRET)"
      ],
      "execution_count": 46,
      "outputs": [
        {
          "output_type": "stream",
          "text": [
            "Your credentails:\n",
            "CLIENT_ID: Q3MQR20QDUUIGD3TVLRWXJNLFB0BVPQLAEGF5QAOUFVYI0YB\n",
            "CLIENT_SECRET:QUUUG4MCZJAXY1TKY2L4C4NMG4HLSI2TZAHBGXQJB4P3VTET\n"
          ],
          "name": "stdout"
        }
      ]
    },
    {
      "cell_type": "code",
      "metadata": {
        "id": "NVIiuCV8nWf3",
        "colab_type": "code",
        "colab": {
          "base_uri": "https://localhost:8080/",
          "height": 34
        },
        "outputId": "8bb28e56-0985-46db-ff7c-73257f9ed18d"
      },
      "source": [
        "address = 'One Apple Park Way, Cupertino, CA 95014'\n",
        "\n",
        "geolocator = Nominatim(user_agent=\"foursquare_agent\")\n",
        "location = geolocator.geocode(address)\n",
        "latitude = location.latitude\n",
        "longitude = location.longitude\n",
        "print(latitude, longitude)"
      ],
      "execution_count": 92,
      "outputs": [
        {
          "output_type": "stream",
          "text": [
            "37.3337269 -122.0118369\n"
          ],
          "name": "stdout"
        }
      ]
    },
    {
      "cell_type": "code",
      "metadata": {
        "id": "gau8QRjunt1r",
        "colab_type": "code",
        "colab": {
          "base_uri": "https://localhost:8080/",
          "height": 34
        },
        "outputId": "ba8ee8a9-2b2b-4248-c1b3-9d9d82efc5bf"
      },
      "source": [
        "search_query = 'Apartment'\n",
        "radius = 1600\n",
        "print(search_query + ' .... OK!')"
      ],
      "execution_count": 93,
      "outputs": [
        {
          "output_type": "stream",
          "text": [
            "Apartment .... OK!\n"
          ],
          "name": "stdout"
        }
      ]
    },
    {
      "cell_type": "code",
      "metadata": {
        "id": "LSNHEDRYn0df",
        "colab_type": "code",
        "colab": {
          "base_uri": "https://localhost:8080/",
          "height": 54
        },
        "outputId": "f66ed102-34d2-4f35-df8c-1a446b5f5f83"
      },
      "source": [
        "url = 'https://api.foursquare.com/v2/venues/search?client_id={}&client_secret={}&ll={},{}&v={}&query={}&radius={}&limit={}'.format(CLIENT_ID, CLIENT_SECRET, latitude, longitude, VERSION, search_query, radius, LIMIT)\n",
        "url"
      ],
      "execution_count": 94,
      "outputs": [
        {
          "output_type": "execute_result",
          "data": {
            "text/plain": [
              "'https://api.foursquare.com/v2/venues/search?client_id=Q3MQR20QDUUIGD3TVLRWXJNLFB0BVPQLAEGF5QAOUFVYI0YB&client_secret=QUUUG4MCZJAXY1TKY2L4C4NMG4HLSI2TZAHBGXQJB4P3VTET&ll=37.3337269,-122.0118369&v=20180604&query=Apartment&radius=1600&limit=30'"
            ]
          },
          "metadata": {
            "tags": []
          },
          "execution_count": 94
        }
      ]
    },
    {
      "cell_type": "code",
      "metadata": {
        "id": "dRoQYmNtn15T",
        "colab_type": "code",
        "colab": {
          "base_uri": "https://localhost:8080/",
          "height": 1000
        },
        "outputId": "ee30befa-2caa-4fb3-9c77-8f2b8a5a2f2c"
      },
      "source": [
        "results = requests.get(url).json()\n",
        "results"
      ],
      "execution_count": 95,
      "outputs": [
        {
          "output_type": "execute_result",
          "data": {
            "text/plain": [
              "{'meta': {'code': 200, 'requestId': '5e77e3d9c94979001b4b75e0'},\n",
              " 'response': {'venues': [{'categories': [{'icon': {'prefix': 'https://ss3.4sqi.net/img/categories_v2/building/apartment_',\n",
              "       'suffix': '.png'},\n",
              "      'id': '4d954b06a243a5684965b473',\n",
              "      'name': 'Residential Building (Apartment / Condo)',\n",
              "      'pluralName': 'Residential Buildings (Apartments / Condos)',\n",
              "      'primary': True,\n",
              "      'shortName': 'Residential'}],\n",
              "    'hasPerk': False,\n",
              "    'id': '4f2c9a3ce4b006ef9849de3b',\n",
              "    'location': {'address': '19500 Pruneridge Ave',\n",
              "     'cc': 'US',\n",
              "     'city': 'Cupertino',\n",
              "     'country': 'United States',\n",
              "     'distance': 180,\n",
              "     'formattedAddress': ['19500 Pruneridge Ave',\n",
              "      'Cupertino, CA 95014',\n",
              "      'United States'],\n",
              "     'labeledLatLngs': [{'label': 'display',\n",
              "       'lat': 37.332146585808,\n",
              "       'lng': -122.01227087884487}],\n",
              "     'lat': 37.332146585808,\n",
              "     'lng': -122.01227087884487,\n",
              "     'postalCode': '95014',\n",
              "     'state': 'CA'},\n",
              "    'name': 'The Hamptons at Cupertino',\n",
              "    'referralId': 'v-1584915437',\n",
              "    'venuePage': {'id': '60023603'}},\n",
              "   {'categories': [{'icon': {'prefix': 'https://ss3.4sqi.net/img/categories_v2/building/default_',\n",
              "       'suffix': '.png'},\n",
              "      'id': '4bf58dd8d48988d130941735',\n",
              "      'name': 'Building',\n",
              "      'pluralName': 'Buildings',\n",
              "      'primary': True,\n",
              "      'shortName': 'Building'}],\n",
              "    'hasPerk': False,\n",
              "    'id': '4c96fb6894a0236ac490a312',\n",
              "    'location': {'address': '202 Calvert Dr',\n",
              "     'cc': 'US',\n",
              "     'city': 'Cupertino',\n",
              "     'country': 'United States',\n",
              "     'distance': 1691,\n",
              "     'formattedAddress': ['202 Calvert Dr',\n",
              "      'Cupertino, CA 95014',\n",
              "      'United States'],\n",
              "     'labeledLatLngs': [{'label': 'display',\n",
              "       'lat': 37.32205306,\n",
              "       'lng': -121.99959655}],\n",
              "     'lat': 37.32205306,\n",
              "     'lng': -121.99959655,\n",
              "     'postalCode': '95014',\n",
              "     'state': 'CA'},\n",
              "    'name': 'Shadow Oaks Apartment Homes',\n",
              "    'referralId': 'v-1584915437'},\n",
              "   {'categories': [],\n",
              "    'hasPerk': False,\n",
              "    'id': '5e458273e714a90008753cdb',\n",
              "    'location': {'address': '202 Calvert Drive',\n",
              "     'cc': 'US',\n",
              "     'city': 'Cupertino',\n",
              "     'country': 'United States',\n",
              "     'distance': 1735,\n",
              "     'formattedAddress': ['202 Calvert Drive',\n",
              "      'Cupertino, CA 95014',\n",
              "      'United States'],\n",
              "     'labeledLatLngs': [{'label': 'display',\n",
              "       'lat': 37.32166319999999,\n",
              "       'lng': -121.9994187}],\n",
              "     'lat': 37.32166319999999,\n",
              "     'lng': -121.9994187,\n",
              "     'postalCode': '95014',\n",
              "     'state': 'CA'},\n",
              "    'name': 'Shadow Oaks Apartment Homes',\n",
              "    'referralId': 'v-1584915437'},\n",
              "   {'categories': [{'icon': {'prefix': 'https://ss3.4sqi.net/img/categories_v2/building/apartment_',\n",
              "       'suffix': '.png'},\n",
              "      'id': '4d954b06a243a5684965b473',\n",
              "      'name': 'Residential Building (Apartment / Condo)',\n",
              "      'pluralName': 'Residential Buildings (Apartments / Condos)',\n",
              "      'primary': True,\n",
              "      'shortName': 'Residential'}],\n",
              "    'hasPerk': False,\n",
              "    'id': '4b934a44f964a520c33e34e3',\n",
              "    'location': {'address': '19800 pruneridge ave',\n",
              "     'cc': 'US',\n",
              "     'city': 'Cupertino',\n",
              "     'country': 'United States',\n",
              "     'distance': 381,\n",
              "     'formattedAddress': ['19800 pruneridge ave',\n",
              "      'Cupertino, CA 95014',\n",
              "      'United States'],\n",
              "     'labeledLatLngs': [{'label': 'display',\n",
              "       'lat': 37.334303,\n",
              "       'lng': -122.016081}],\n",
              "     'lat': 37.334303,\n",
              "     'lng': -122.016081,\n",
              "     'postalCode': '95014',\n",
              "     'state': 'CA'},\n",
              "    'name': 'Arioso Apartments',\n",
              "    'referralId': 'v-1584915437'},\n",
              "   {'categories': [{'icon': {'prefix': 'https://ss3.4sqi.net/img/categories_v2/building/apartment_',\n",
              "       'suffix': '.png'},\n",
              "      'id': '4d954b06a243a5684965b473',\n",
              "      'name': 'Residential Building (Apartment / Condo)',\n",
              "      'pluralName': 'Residential Buildings (Apartments / Condos)',\n",
              "      'primary': True,\n",
              "      'shortName': 'Residential'}],\n",
              "    'hasPerk': False,\n",
              "    'id': '5c5634ddbed483002c402b28',\n",
              "    'location': {'address': 'Lehigh Drive',\n",
              "     'cc': 'US',\n",
              "     'city': 'Santa Clara',\n",
              "     'country': 'United States',\n",
              "     'distance': 1563,\n",
              "     'formattedAddress': ['Lehigh Drive',\n",
              "      'Santa Clara, CA 95051',\n",
              "      'United States'],\n",
              "     'labeledLatLngs': [{'label': 'display',\n",
              "       'lat': 37.335706,\n",
              "       'lng': -121.994352}],\n",
              "     'lat': 37.335706,\n",
              "     'lng': -121.994352,\n",
              "     'postalCode': '95051',\n",
              "     'state': 'CA'},\n",
              "    'name': 'Lehigh Apartments',\n",
              "    'referralId': 'v-1584915437'},\n",
              "   {'categories': [{'icon': {'prefix': 'https://ss3.4sqi.net/img/categories_v2/building/default_',\n",
              "       'suffix': '.png'},\n",
              "      'id': '4bf58dd8d48988d130941735',\n",
              "      'name': 'Building',\n",
              "      'pluralName': 'Buildings',\n",
              "      'primary': True,\n",
              "      'shortName': 'Building'}],\n",
              "    'hasPerk': False,\n",
              "    'id': '4ee8a799991154b31c52ba3d',\n",
              "    'location': {'address': '5608 Stevens Creek Blvd.',\n",
              "     'cc': 'US',\n",
              "     'city': 'Cupertino',\n",
              "     'country': 'United States',\n",
              "     'distance': 1445,\n",
              "     'formattedAddress': ['5608 Stevens Creek Blvd.',\n",
              "      'Cupertino, CA 95014',\n",
              "      'United States'],\n",
              "     'labeledLatLngs': [{'label': 'display',\n",
              "       'lat': 37.3228051,\n",
              "       'lng': -122.0030004}],\n",
              "     'lat': 37.3228051,\n",
              "     'lng': -122.0030004,\n",
              "     'postalCode': '95014',\n",
              "     'state': 'CA'},\n",
              "    'name': 'City Gate at Cupertino Apartments',\n",
              "    'referralId': 'v-1584915437'},\n",
              "   {'categories': [{'icon': {'prefix': 'https://ss3.4sqi.net/img/categories_v2/building/default_',\n",
              "       'suffix': '.png'},\n",
              "      'id': '4bf58dd8d48988d130941735',\n",
              "      'name': 'Building',\n",
              "      'pluralName': 'Buildings',\n",
              "      'primary': True,\n",
              "      'shortName': 'Building'}],\n",
              "    'hasPerk': False,\n",
              "    'id': '5c1035d5121384002cbbebde',\n",
              "    'location': {'address': '19700 Vallco Pkwy',\n",
              "     'cc': 'US',\n",
              "     'city': 'Cupertino',\n",
              "     'country': 'United States',\n",
              "     'distance': 942,\n",
              "     'formattedAddress': ['19700 Vallco Pkwy',\n",
              "      'Cupertino, CA 95014',\n",
              "      'United States'],\n",
              "     'labeledLatLngs': [{'label': 'display',\n",
              "       'lat': 37.3253301,\n",
              "       'lng': -122.0132322}],\n",
              "     'lat': 37.3253301,\n",
              "     'lng': -122.0132322,\n",
              "     'postalCode': '95014',\n",
              "     'state': 'CA'},\n",
              "    'name': 'Nineteen800 Apartments',\n",
              "    'referralId': 'v-1584915437'},\n",
              "   {'categories': [{'icon': {'prefix': 'https://ss3.4sqi.net/img/categories_v2/building/apartment_',\n",
              "       'suffix': '.png'},\n",
              "      'id': '4d954b06a243a5684965b473',\n",
              "      'name': 'Residential Building (Apartment / Condo)',\n",
              "      'pluralName': 'Residential Buildings (Apartments / Condos)',\n",
              "      'primary': True,\n",
              "      'shortName': 'Residential'}],\n",
              "    'hasPerk': False,\n",
              "    'id': '5d609c15f01ce40008b7d819',\n",
              "    'location': {'address': '20200 Lucille Ave',\n",
              "     'cc': 'US',\n",
              "     'city': 'Cupertino',\n",
              "     'country': 'United States',\n",
              "     'distance': 1145,\n",
              "     'formattedAddress': ['20200 Lucille Ave',\n",
              "      'Cupertino, CA 95014',\n",
              "      'United States'],\n",
              "     'labeledLatLngs': [{'label': 'display',\n",
              "       'lat': 37.332831,\n",
              "       'lng': -122.024732}],\n",
              "     'lat': 37.332831,\n",
              "     'lng': -122.024732,\n",
              "     'postalCode': '95014',\n",
              "     'state': 'CA'},\n",
              "    'name': 'Verandas at Cupertino Apartments',\n",
              "    'referralId': 'v-1584915437'},\n",
              "   {'categories': [{'icon': {'prefix': 'https://ss3.4sqi.net/img/categories_v2/building/apartment_',\n",
              "       'suffix': '.png'},\n",
              "      'id': '4d954b06a243a5684965b473',\n",
              "      'name': 'Residential Building (Apartment / Condo)',\n",
              "      'pluralName': 'Residential Buildings (Apartments / Condos)',\n",
              "      'primary': True,\n",
              "      'shortName': 'Residential'}],\n",
              "    'hasPerk': False,\n",
              "    'id': '4c11be42a9420f475b617d51',\n",
              "    'location': {'address': '20415 Via Paviso',\n",
              "     'cc': 'US',\n",
              "     'city': 'Cupertino',\n",
              "     'country': 'United States',\n",
              "     'crossStreet': 'off N De Anza Blvd',\n",
              "     'distance': 1767,\n",
              "     'formattedAddress': ['20415 Via Paviso (off N De Anza Blvd)',\n",
              "      'Cupertino, CA 95014',\n",
              "      'United States'],\n",
              "     'labeledLatLngs': [{'label': 'display',\n",
              "       'lat': 37.3366590250376,\n",
              "       'lng': -122.03146683543527}],\n",
              "     'lat': 37.3366590250376,\n",
              "     'lng': -122.03146683543527,\n",
              "     'postalCode': '95014',\n",
              "     'state': 'CA'},\n",
              "    'name': 'Aviare Apartments',\n",
              "    'referralId': 'v-1584915437'},\n",
              "   {'categories': [{'icon': {'prefix': 'https://ss3.4sqi.net/img/categories_v2/building/default_',\n",
              "       'suffix': '.png'},\n",
              "      'id': '4bf58dd8d48988d130941735',\n",
              "      'name': 'Building',\n",
              "      'pluralName': 'Buildings',\n",
              "      'primary': True,\n",
              "      'shortName': 'Building'}],\n",
              "    'hasPerk': False,\n",
              "    'id': '59d2616b6fd62664b13d0ae3',\n",
              "    'location': {'address': '5608 Stevens Creek Blvd',\n",
              "     'cc': 'US',\n",
              "     'city': 'Cupertino',\n",
              "     'country': 'United States',\n",
              "     'distance': 1517,\n",
              "     'formattedAddress': ['5608 Stevens Creek Blvd',\n",
              "      'Cupertino, CA 95014',\n",
              "      'United States'],\n",
              "     'labeledLatLngs': [{'label': 'display',\n",
              "       'lat': 37.32268,\n",
              "       'lng': -122.0017873}],\n",
              "     'lat': 37.32268,\n",
              "     'lng': -122.0017873,\n",
              "     'postalCode': '95014',\n",
              "     'state': 'CA'},\n",
              "    'name': 'City Gate at Cupertino Apartments',\n",
              "    'referralId': 'v-1584915437'},\n",
              "   {'categories': [{'icon': {'prefix': 'https://ss3.4sqi.net/img/categories_v2/building/apartment_',\n",
              "       'suffix': '.png'},\n",
              "      'id': '4d954b06a243a5684965b473',\n",
              "      'name': 'Residential Building (Apartment / Condo)',\n",
              "      'pluralName': 'Residential Buildings (Apartments / Condos)',\n",
              "      'primary': True,\n",
              "      'shortName': 'Residential'}],\n",
              "    'hasPerk': False,\n",
              "    'id': '50a05ac1e4b0ab17548669e2',\n",
              "    'location': {'address': '660 Harvard Ave',\n",
              "     'cc': 'US',\n",
              "     'city': 'Santa Clara',\n",
              "     'country': 'United States',\n",
              "     'distance': 1485,\n",
              "     'formattedAddress': ['660 Harvard Ave',\n",
              "      'Santa Clara, CA 95051',\n",
              "      'United States'],\n",
              "     'labeledLatLngs': [{'label': 'display',\n",
              "       'lat': 37.33448,\n",
              "       'lng': -121.995078}],\n",
              "     'lat': 37.33448,\n",
              "     'lng': -121.995078,\n",
              "     'postalCode': '95051',\n",
              "     'state': 'CA'},\n",
              "    'name': 'Harvard Studio Apartments',\n",
              "    'referralId': 'v-1584915437'}]}}"
            ]
          },
          "metadata": {
            "tags": []
          },
          "execution_count": 95
        }
      ]
    },
    {
      "cell_type": "code",
      "metadata": {
        "id": "stjbUxJsp-DE",
        "colab_type": "code",
        "colab": {
          "base_uri": "https://localhost:8080/",
          "height": 445
        },
        "outputId": "1ae0743c-d5d2-4df4-bd88-7243095f0209"
      },
      "source": [
        "# assign relevant part of JSON to venues\n",
        "venues = results['response']['venues']\n",
        "\n",
        "# tranform venues into a dataframe\n",
        "dataframe = json_normalize(venues)\n",
        "dataframe.head()"
      ],
      "execution_count": 96,
      "outputs": [
        {
          "output_type": "execute_result",
          "data": {
            "text/html": [
              "<div>\n",
              "<style scoped>\n",
              "    .dataframe tbody tr th:only-of-type {\n",
              "        vertical-align: middle;\n",
              "    }\n",
              "\n",
              "    .dataframe tbody tr th {\n",
              "        vertical-align: top;\n",
              "    }\n",
              "\n",
              "    .dataframe thead th {\n",
              "        text-align: right;\n",
              "    }\n",
              "</style>\n",
              "<table border=\"1\" class=\"dataframe\">\n",
              "  <thead>\n",
              "    <tr style=\"text-align: right;\">\n",
              "      <th></th>\n",
              "      <th>id</th>\n",
              "      <th>name</th>\n",
              "      <th>categories</th>\n",
              "      <th>referralId</th>\n",
              "      <th>hasPerk</th>\n",
              "      <th>location.address</th>\n",
              "      <th>location.lat</th>\n",
              "      <th>location.lng</th>\n",
              "      <th>location.labeledLatLngs</th>\n",
              "      <th>location.distance</th>\n",
              "      <th>location.postalCode</th>\n",
              "      <th>location.cc</th>\n",
              "      <th>location.city</th>\n",
              "      <th>location.state</th>\n",
              "      <th>location.country</th>\n",
              "      <th>location.formattedAddress</th>\n",
              "      <th>venuePage.id</th>\n",
              "      <th>location.crossStreet</th>\n",
              "    </tr>\n",
              "  </thead>\n",
              "  <tbody>\n",
              "    <tr>\n",
              "      <th>0</th>\n",
              "      <td>4f2c9a3ce4b006ef9849de3b</td>\n",
              "      <td>The Hamptons at Cupertino</td>\n",
              "      <td>[{'id': '4d954b06a243a5684965b473', 'name': 'R...</td>\n",
              "      <td>v-1584915437</td>\n",
              "      <td>False</td>\n",
              "      <td>19500 Pruneridge Ave</td>\n",
              "      <td>37.332147</td>\n",
              "      <td>-122.012271</td>\n",
              "      <td>[{'label': 'display', 'lat': 37.332146585808, ...</td>\n",
              "      <td>180</td>\n",
              "      <td>95014</td>\n",
              "      <td>US</td>\n",
              "      <td>Cupertino</td>\n",
              "      <td>CA</td>\n",
              "      <td>United States</td>\n",
              "      <td>[19500 Pruneridge Ave, Cupertino, CA 95014, Un...</td>\n",
              "      <td>60023603</td>\n",
              "      <td>NaN</td>\n",
              "    </tr>\n",
              "    <tr>\n",
              "      <th>1</th>\n",
              "      <td>4c96fb6894a0236ac490a312</td>\n",
              "      <td>Shadow Oaks Apartment Homes</td>\n",
              "      <td>[{'id': '4bf58dd8d48988d130941735', 'name': 'B...</td>\n",
              "      <td>v-1584915437</td>\n",
              "      <td>False</td>\n",
              "      <td>202 Calvert Dr</td>\n",
              "      <td>37.322053</td>\n",
              "      <td>-121.999597</td>\n",
              "      <td>[{'label': 'display', 'lat': 37.32205306, 'lng...</td>\n",
              "      <td>1691</td>\n",
              "      <td>95014</td>\n",
              "      <td>US</td>\n",
              "      <td>Cupertino</td>\n",
              "      <td>CA</td>\n",
              "      <td>United States</td>\n",
              "      <td>[202 Calvert Dr, Cupertino, CA 95014, United S...</td>\n",
              "      <td>NaN</td>\n",
              "      <td>NaN</td>\n",
              "    </tr>\n",
              "    <tr>\n",
              "      <th>2</th>\n",
              "      <td>5e458273e714a90008753cdb</td>\n",
              "      <td>Shadow Oaks Apartment Homes</td>\n",
              "      <td>[]</td>\n",
              "      <td>v-1584915437</td>\n",
              "      <td>False</td>\n",
              "      <td>202 Calvert Drive</td>\n",
              "      <td>37.321663</td>\n",
              "      <td>-121.999419</td>\n",
              "      <td>[{'label': 'display', 'lat': 37.32166319999999...</td>\n",
              "      <td>1735</td>\n",
              "      <td>95014</td>\n",
              "      <td>US</td>\n",
              "      <td>Cupertino</td>\n",
              "      <td>CA</td>\n",
              "      <td>United States</td>\n",
              "      <td>[202 Calvert Drive, Cupertino, CA 95014, Unite...</td>\n",
              "      <td>NaN</td>\n",
              "      <td>NaN</td>\n",
              "    </tr>\n",
              "    <tr>\n",
              "      <th>3</th>\n",
              "      <td>4b934a44f964a520c33e34e3</td>\n",
              "      <td>Arioso Apartments</td>\n",
              "      <td>[{'id': '4d954b06a243a5684965b473', 'name': 'R...</td>\n",
              "      <td>v-1584915437</td>\n",
              "      <td>False</td>\n",
              "      <td>19800 pruneridge ave</td>\n",
              "      <td>37.334303</td>\n",
              "      <td>-122.016081</td>\n",
              "      <td>[{'label': 'display', 'lat': 37.334303, 'lng':...</td>\n",
              "      <td>381</td>\n",
              "      <td>95014</td>\n",
              "      <td>US</td>\n",
              "      <td>Cupertino</td>\n",
              "      <td>CA</td>\n",
              "      <td>United States</td>\n",
              "      <td>[19800 pruneridge ave, Cupertino, CA 95014, Un...</td>\n",
              "      <td>NaN</td>\n",
              "      <td>NaN</td>\n",
              "    </tr>\n",
              "    <tr>\n",
              "      <th>4</th>\n",
              "      <td>5c5634ddbed483002c402b28</td>\n",
              "      <td>Lehigh Apartments</td>\n",
              "      <td>[{'id': '4d954b06a243a5684965b473', 'name': 'R...</td>\n",
              "      <td>v-1584915437</td>\n",
              "      <td>False</td>\n",
              "      <td>Lehigh Drive</td>\n",
              "      <td>37.335706</td>\n",
              "      <td>-121.994352</td>\n",
              "      <td>[{'label': 'display', 'lat': 37.335706, 'lng':...</td>\n",
              "      <td>1563</td>\n",
              "      <td>95051</td>\n",
              "      <td>US</td>\n",
              "      <td>Santa Clara</td>\n",
              "      <td>CA</td>\n",
              "      <td>United States</td>\n",
              "      <td>[Lehigh Drive, Santa Clara, CA 95051, United S...</td>\n",
              "      <td>NaN</td>\n",
              "      <td>NaN</td>\n",
              "    </tr>\n",
              "  </tbody>\n",
              "</table>\n",
              "</div>"
            ],
            "text/plain": [
              "                         id  ... location.crossStreet\n",
              "0  4f2c9a3ce4b006ef9849de3b  ...                  NaN\n",
              "1  4c96fb6894a0236ac490a312  ...                  NaN\n",
              "2  5e458273e714a90008753cdb  ...                  NaN\n",
              "3  4b934a44f964a520c33e34e3  ...                  NaN\n",
              "4  5c5634ddbed483002c402b28  ...                  NaN\n",
              "\n",
              "[5 rows x 18 columns]"
            ]
          },
          "metadata": {
            "tags": []
          },
          "execution_count": 96
        }
      ]
    },
    {
      "cell_type": "code",
      "metadata": {
        "id": "0ERhuqFQqJkP",
        "colab_type": "code",
        "colab": {
          "base_uri": "https://localhost:8080/",
          "height": 937
        },
        "outputId": "30225ea4-5b52-49fc-da74-5163a0664054"
      },
      "source": [
        "# keep only columns that include venue name, and anything that is associated with location\n",
        "filtered_columns = ['name', 'categories'] + [col for col in dataframe.columns if col.startswith('location.')] + ['id']\n",
        "dataframe_filtered = dataframe.loc[:, filtered_columns]\n",
        "\n",
        "# function that extracts the category of the venue\n",
        "def get_category_type(row):\n",
        "    try:\n",
        "        categories_list = row['categories']\n",
        "    except:\n",
        "        categories_list = row['venue.categories']\n",
        "        \n",
        "    if len(categories_list) == 0:\n",
        "        return None\n",
        "    else:\n",
        "        return categories_list[0]['name']\n",
        "\n",
        "# filter the category for each row\n",
        "dataframe_filtered['categories'] = dataframe_filtered.apply(get_category_type, axis=1)\n",
        "\n",
        "# clean column names by keeping only last term\n",
        "dataframe_filtered.columns = [column.split('.')[-1] for column in dataframe_filtered.columns]\n",
        "\n",
        "dataframe_filtered"
      ],
      "execution_count": 97,
      "outputs": [
        {
          "output_type": "execute_result",
          "data": {
            "text/html": [
              "<div>\n",
              "<style scoped>\n",
              "    .dataframe tbody tr th:only-of-type {\n",
              "        vertical-align: middle;\n",
              "    }\n",
              "\n",
              "    .dataframe tbody tr th {\n",
              "        vertical-align: top;\n",
              "    }\n",
              "\n",
              "    .dataframe thead th {\n",
              "        text-align: right;\n",
              "    }\n",
              "</style>\n",
              "<table border=\"1\" class=\"dataframe\">\n",
              "  <thead>\n",
              "    <tr style=\"text-align: right;\">\n",
              "      <th></th>\n",
              "      <th>name</th>\n",
              "      <th>categories</th>\n",
              "      <th>address</th>\n",
              "      <th>lat</th>\n",
              "      <th>lng</th>\n",
              "      <th>labeledLatLngs</th>\n",
              "      <th>distance</th>\n",
              "      <th>postalCode</th>\n",
              "      <th>cc</th>\n",
              "      <th>city</th>\n",
              "      <th>state</th>\n",
              "      <th>country</th>\n",
              "      <th>formattedAddress</th>\n",
              "      <th>crossStreet</th>\n",
              "      <th>id</th>\n",
              "    </tr>\n",
              "  </thead>\n",
              "  <tbody>\n",
              "    <tr>\n",
              "      <th>0</th>\n",
              "      <td>The Hamptons at Cupertino</td>\n",
              "      <td>Residential Building (Apartment / Condo)</td>\n",
              "      <td>19500 Pruneridge Ave</td>\n",
              "      <td>37.332147</td>\n",
              "      <td>-122.012271</td>\n",
              "      <td>[{'label': 'display', 'lat': 37.332146585808, ...</td>\n",
              "      <td>180</td>\n",
              "      <td>95014</td>\n",
              "      <td>US</td>\n",
              "      <td>Cupertino</td>\n",
              "      <td>CA</td>\n",
              "      <td>United States</td>\n",
              "      <td>[19500 Pruneridge Ave, Cupertino, CA 95014, Un...</td>\n",
              "      <td>NaN</td>\n",
              "      <td>4f2c9a3ce4b006ef9849de3b</td>\n",
              "    </tr>\n",
              "    <tr>\n",
              "      <th>1</th>\n",
              "      <td>Shadow Oaks Apartment Homes</td>\n",
              "      <td>Building</td>\n",
              "      <td>202 Calvert Dr</td>\n",
              "      <td>37.322053</td>\n",
              "      <td>-121.999597</td>\n",
              "      <td>[{'label': 'display', 'lat': 37.32205306, 'lng...</td>\n",
              "      <td>1691</td>\n",
              "      <td>95014</td>\n",
              "      <td>US</td>\n",
              "      <td>Cupertino</td>\n",
              "      <td>CA</td>\n",
              "      <td>United States</td>\n",
              "      <td>[202 Calvert Dr, Cupertino, CA 95014, United S...</td>\n",
              "      <td>NaN</td>\n",
              "      <td>4c96fb6894a0236ac490a312</td>\n",
              "    </tr>\n",
              "    <tr>\n",
              "      <th>2</th>\n",
              "      <td>Shadow Oaks Apartment Homes</td>\n",
              "      <td>None</td>\n",
              "      <td>202 Calvert Drive</td>\n",
              "      <td>37.321663</td>\n",
              "      <td>-121.999419</td>\n",
              "      <td>[{'label': 'display', 'lat': 37.32166319999999...</td>\n",
              "      <td>1735</td>\n",
              "      <td>95014</td>\n",
              "      <td>US</td>\n",
              "      <td>Cupertino</td>\n",
              "      <td>CA</td>\n",
              "      <td>United States</td>\n",
              "      <td>[202 Calvert Drive, Cupertino, CA 95014, Unite...</td>\n",
              "      <td>NaN</td>\n",
              "      <td>5e458273e714a90008753cdb</td>\n",
              "    </tr>\n",
              "    <tr>\n",
              "      <th>3</th>\n",
              "      <td>Arioso Apartments</td>\n",
              "      <td>Residential Building (Apartment / Condo)</td>\n",
              "      <td>19800 pruneridge ave</td>\n",
              "      <td>37.334303</td>\n",
              "      <td>-122.016081</td>\n",
              "      <td>[{'label': 'display', 'lat': 37.334303, 'lng':...</td>\n",
              "      <td>381</td>\n",
              "      <td>95014</td>\n",
              "      <td>US</td>\n",
              "      <td>Cupertino</td>\n",
              "      <td>CA</td>\n",
              "      <td>United States</td>\n",
              "      <td>[19800 pruneridge ave, Cupertino, CA 95014, Un...</td>\n",
              "      <td>NaN</td>\n",
              "      <td>4b934a44f964a520c33e34e3</td>\n",
              "    </tr>\n",
              "    <tr>\n",
              "      <th>4</th>\n",
              "      <td>Lehigh Apartments</td>\n",
              "      <td>Residential Building (Apartment / Condo)</td>\n",
              "      <td>Lehigh Drive</td>\n",
              "      <td>37.335706</td>\n",
              "      <td>-121.994352</td>\n",
              "      <td>[{'label': 'display', 'lat': 37.335706, 'lng':...</td>\n",
              "      <td>1563</td>\n",
              "      <td>95051</td>\n",
              "      <td>US</td>\n",
              "      <td>Santa Clara</td>\n",
              "      <td>CA</td>\n",
              "      <td>United States</td>\n",
              "      <td>[Lehigh Drive, Santa Clara, CA 95051, United S...</td>\n",
              "      <td>NaN</td>\n",
              "      <td>5c5634ddbed483002c402b28</td>\n",
              "    </tr>\n",
              "    <tr>\n",
              "      <th>5</th>\n",
              "      <td>City Gate at Cupertino Apartments</td>\n",
              "      <td>Building</td>\n",
              "      <td>5608 Stevens Creek Blvd.</td>\n",
              "      <td>37.322805</td>\n",
              "      <td>-122.003000</td>\n",
              "      <td>[{'label': 'display', 'lat': 37.3228051, 'lng'...</td>\n",
              "      <td>1445</td>\n",
              "      <td>95014</td>\n",
              "      <td>US</td>\n",
              "      <td>Cupertino</td>\n",
              "      <td>CA</td>\n",
              "      <td>United States</td>\n",
              "      <td>[5608 Stevens Creek Blvd., Cupertino, CA 95014...</td>\n",
              "      <td>NaN</td>\n",
              "      <td>4ee8a799991154b31c52ba3d</td>\n",
              "    </tr>\n",
              "    <tr>\n",
              "      <th>6</th>\n",
              "      <td>Nineteen800 Apartments</td>\n",
              "      <td>Building</td>\n",
              "      <td>19700 Vallco Pkwy</td>\n",
              "      <td>37.325330</td>\n",
              "      <td>-122.013232</td>\n",
              "      <td>[{'label': 'display', 'lat': 37.3253301, 'lng'...</td>\n",
              "      <td>942</td>\n",
              "      <td>95014</td>\n",
              "      <td>US</td>\n",
              "      <td>Cupertino</td>\n",
              "      <td>CA</td>\n",
              "      <td>United States</td>\n",
              "      <td>[19700 Vallco Pkwy, Cupertino, CA 95014, Unite...</td>\n",
              "      <td>NaN</td>\n",
              "      <td>5c1035d5121384002cbbebde</td>\n",
              "    </tr>\n",
              "    <tr>\n",
              "      <th>7</th>\n",
              "      <td>Verandas at Cupertino Apartments</td>\n",
              "      <td>Residential Building (Apartment / Condo)</td>\n",
              "      <td>20200 Lucille Ave</td>\n",
              "      <td>37.332831</td>\n",
              "      <td>-122.024732</td>\n",
              "      <td>[{'label': 'display', 'lat': 37.332831, 'lng':...</td>\n",
              "      <td>1145</td>\n",
              "      <td>95014</td>\n",
              "      <td>US</td>\n",
              "      <td>Cupertino</td>\n",
              "      <td>CA</td>\n",
              "      <td>United States</td>\n",
              "      <td>[20200 Lucille Ave, Cupertino, CA 95014, Unite...</td>\n",
              "      <td>NaN</td>\n",
              "      <td>5d609c15f01ce40008b7d819</td>\n",
              "    </tr>\n",
              "    <tr>\n",
              "      <th>8</th>\n",
              "      <td>Aviare Apartments</td>\n",
              "      <td>Residential Building (Apartment / Condo)</td>\n",
              "      <td>20415 Via Paviso</td>\n",
              "      <td>37.336659</td>\n",
              "      <td>-122.031467</td>\n",
              "      <td>[{'label': 'display', 'lat': 37.3366590250376,...</td>\n",
              "      <td>1767</td>\n",
              "      <td>95014</td>\n",
              "      <td>US</td>\n",
              "      <td>Cupertino</td>\n",
              "      <td>CA</td>\n",
              "      <td>United States</td>\n",
              "      <td>[20415 Via Paviso (off N De Anza Blvd), Cupert...</td>\n",
              "      <td>off N De Anza Blvd</td>\n",
              "      <td>4c11be42a9420f475b617d51</td>\n",
              "    </tr>\n",
              "    <tr>\n",
              "      <th>9</th>\n",
              "      <td>City Gate at Cupertino Apartments</td>\n",
              "      <td>Building</td>\n",
              "      <td>5608 Stevens Creek Blvd</td>\n",
              "      <td>37.322680</td>\n",
              "      <td>-122.001787</td>\n",
              "      <td>[{'label': 'display', 'lat': 37.32268, 'lng': ...</td>\n",
              "      <td>1517</td>\n",
              "      <td>95014</td>\n",
              "      <td>US</td>\n",
              "      <td>Cupertino</td>\n",
              "      <td>CA</td>\n",
              "      <td>United States</td>\n",
              "      <td>[5608 Stevens Creek Blvd, Cupertino, CA 95014,...</td>\n",
              "      <td>NaN</td>\n",
              "      <td>59d2616b6fd62664b13d0ae3</td>\n",
              "    </tr>\n",
              "    <tr>\n",
              "      <th>10</th>\n",
              "      <td>Harvard Studio Apartments</td>\n",
              "      <td>Residential Building (Apartment / Condo)</td>\n",
              "      <td>660 Harvard Ave</td>\n",
              "      <td>37.334480</td>\n",
              "      <td>-121.995078</td>\n",
              "      <td>[{'label': 'display', 'lat': 37.33448, 'lng': ...</td>\n",
              "      <td>1485</td>\n",
              "      <td>95051</td>\n",
              "      <td>US</td>\n",
              "      <td>Santa Clara</td>\n",
              "      <td>CA</td>\n",
              "      <td>United States</td>\n",
              "      <td>[660 Harvard Ave, Santa Clara, CA 95051, Unite...</td>\n",
              "      <td>NaN</td>\n",
              "      <td>50a05ac1e4b0ab17548669e2</td>\n",
              "    </tr>\n",
              "  </tbody>\n",
              "</table>\n",
              "</div>"
            ],
            "text/plain": [
              "                                 name  ...                        id\n",
              "0           The Hamptons at Cupertino  ...  4f2c9a3ce4b006ef9849de3b\n",
              "1         Shadow Oaks Apartment Homes  ...  4c96fb6894a0236ac490a312\n",
              "2         Shadow Oaks Apartment Homes  ...  5e458273e714a90008753cdb\n",
              "3                   Arioso Apartments  ...  4b934a44f964a520c33e34e3\n",
              "4                   Lehigh Apartments  ...  5c5634ddbed483002c402b28\n",
              "5   City Gate at Cupertino Apartments  ...  4ee8a799991154b31c52ba3d\n",
              "6              Nineteen800 Apartments  ...  5c1035d5121384002cbbebde\n",
              "7    Verandas at Cupertino Apartments  ...  5d609c15f01ce40008b7d819\n",
              "8                   Aviare Apartments  ...  4c11be42a9420f475b617d51\n",
              "9   City Gate at Cupertino Apartments  ...  59d2616b6fd62664b13d0ae3\n",
              "10          Harvard Studio Apartments  ...  50a05ac1e4b0ab17548669e2\n",
              "\n",
              "[11 rows x 15 columns]"
            ]
          },
          "metadata": {
            "tags": []
          },
          "execution_count": 97
        }
      ]
    },
    {
      "cell_type": "code",
      "metadata": {
        "id": "M_z8-LU2qLY3",
        "colab_type": "code",
        "colab": {
          "base_uri": "https://localhost:8080/",
          "height": 221
        },
        "outputId": "2c99088b-e2f4-49ee-f579-894ee543641a"
      },
      "source": [
        "dataframe_filtered.name"
      ],
      "execution_count": 98,
      "outputs": [
        {
          "output_type": "execute_result",
          "data": {
            "text/plain": [
              "0             The Hamptons at Cupertino\n",
              "1           Shadow Oaks Apartment Homes\n",
              "2           Shadow Oaks Apartment Homes\n",
              "3                     Arioso Apartments\n",
              "4                     Lehigh Apartments\n",
              "5     City Gate at Cupertino Apartments\n",
              "6                Nineteen800 Apartments\n",
              "7      Verandas at Cupertino Apartments\n",
              "8                     Aviare Apartments\n",
              "9     City Gate at Cupertino Apartments\n",
              "10            Harvard Studio Apartments\n",
              "Name: name, dtype: object"
            ]
          },
          "metadata": {
            "tags": []
          },
          "execution_count": 98
        }
      ]
    },
    {
      "cell_type": "code",
      "metadata": {
        "id": "HUovKN-NKlI6",
        "colab_type": "code",
        "colab": {}
      },
      "source": [
        "df_apple = dataframe_filtered"
      ],
      "execution_count": 0,
      "outputs": []
    },
    {
      "cell_type": "code",
      "metadata": {
        "id": "lU30n1G4q0vi",
        "colab_type": "code",
        "colab": {
          "base_uri": "https://localhost:8080/",
          "height": 723
        },
        "outputId": "93b51235-b949-42c2-a275-99ef71c9c51f"
      },
      "source": [
        "venues_map = folium.Map(location=[latitude, longitude], zoom_start=13) # generate map centred around the Center\n",
        "\n",
        "# add a red circle marker to represent the Center\n",
        "folium.CircleMarker(\n",
        "    [latitude, longitude],\n",
        "    radius=10,\n",
        "    color='red',\n",
        "    popup='Apple Park',\n",
        "    fill = True,\n",
        "    fill_color = 'red',\n",
        "    fill_opacity = 0.6\n",
        ").add_to(venues_map)\n",
        "\n",
        "# add the Coffee restaurants as blue circle markers\n",
        "for lat, lng, label in zip(dataframe_filtered.lat, dataframe_filtered.lng, dataframe_filtered.categories):\n",
        "    folium.CircleMarker(\n",
        "        [lat, lng],\n",
        "        radius=5,\n",
        "        color='blue',\n",
        "        popup=label,\n",
        "        fill = True,\n",
        "        fill_color='blue',\n",
        "        fill_opacity=0.6\n",
        "    ).add_to(venues_map)\n",
        "\n",
        "# display map\n",
        "venues_map"
      ],
      "execution_count": 100,
      "outputs": [
        {
          "output_type": "execute_result",
          "data": {
            "text/html": [
              "<div style=\"width:100%;\"><div style=\"position:relative;width:100%;height:0;padding-bottom:60%;\"><iframe src=\"about:blank\" style=\"position:absolute;width:100%;height:100%;left:0;top:0;border:none !important;\" data-html=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 onload=\"this.contentDocument.open();this.contentDocument.write(atob(this.getAttribute('data-html')));this.contentDocument.close();\" allowfullscreen webkitallowfullscreen mozallowfullscreen></iframe></div></div>"
            ],
            "text/plain": [
              "<folium.folium.Map at 0x7f5f9a568160>"
            ]
          },
          "metadata": {
            "tags": []
          },
          "execution_count": 100
        }
      ]
    },
    {
      "cell_type": "markdown",
      "metadata": {
        "id": "AG5OxnQCL9mL",
        "colab_type": "text"
      },
      "source": [
        "### b. Google, Mountain View"
      ]
    },
    {
      "cell_type": "code",
      "metadata": {
        "id": "3nbkOHS3MEn3",
        "colab_type": "code",
        "colab": {
          "base_uri": "https://localhost:8080/",
          "height": 34
        },
        "outputId": "ed66d3dd-a450-406b-c954-c59d3bdf8888"
      },
      "source": [
        "address = '1600 Amphitheatre Pkwy, Mountain View, CA 94043'\n",
        "\n",
        "geolocator = Nominatim(user_agent=\"foursquare_agent\")\n",
        "location = geolocator.geocode(address)\n",
        "latitude = location.latitude\n",
        "longitude = location.longitude\n",
        "print(latitude, longitude)"
      ],
      "execution_count": 58,
      "outputs": [
        {
          "output_type": "stream",
          "text": [
            "37.42248575 -122.08558456613565\n"
          ],
          "name": "stdout"
        }
      ]
    },
    {
      "cell_type": "code",
      "metadata": {
        "id": "6b58tF0oMRJI",
        "colab_type": "code",
        "colab": {
          "base_uri": "https://localhost:8080/",
          "height": 54
        },
        "outputId": "11f06546-8092-4a4a-cf05-d9900a46cc90"
      },
      "source": [
        "url = 'https://api.foursquare.com/v2/venues/search?client_id={}&client_secret={}&ll={},{}&v={}&query={}&radius={}&limit={}'.format(CLIENT_ID, CLIENT_SECRET, latitude, longitude, VERSION, search_query, radius, LIMIT)\n",
        "url"
      ],
      "execution_count": 59,
      "outputs": [
        {
          "output_type": "execute_result",
          "data": {
            "text/plain": [
              "'https://api.foursquare.com/v2/venues/search?client_id=Q3MQR20QDUUIGD3TVLRWXJNLFB0BVPQLAEGF5QAOUFVYI0YB&client_secret=QUUUG4MCZJAXY1TKY2L4C4NMG4HLSI2TZAHBGXQJB4P3VTET&ll=37.42248575,-122.08558456613565&v=20180604&query=Apartment&radius=1600&limit=30'"
            ]
          },
          "metadata": {
            "tags": []
          },
          "execution_count": 59
        }
      ]
    },
    {
      "cell_type": "code",
      "metadata": {
        "id": "wDx-Bmd8MWuZ",
        "colab_type": "code",
        "colab": {
          "base_uri": "https://localhost:8080/",
          "height": 1000
        },
        "outputId": "0823f003-1951-4b58-80bb-239fe8f5a09c"
      },
      "source": [
        "results = requests.get(url).json()\n",
        "results"
      ],
      "execution_count": 60,
      "outputs": [
        {
          "output_type": "execute_result",
          "data": {
            "text/plain": [
              "{'meta': {'code': 200, 'requestId': '5e77dbae77af03001bd3ece6'},\n",
              " 'response': {'venues': [{'categories': [{'icon': {'prefix': 'https://ss3.4sqi.net/img/categories_v2/building/apartment_',\n",
              "       'suffix': '.png'},\n",
              "      'id': '4d954b06a243a5684965b473',\n",
              "      'name': 'Residential Building (Apartment / Condo)',\n",
              "      'pluralName': 'Residential Buildings (Apartments / Condos)',\n",
              "      'primary': True,\n",
              "      'shortName': 'Residential'}],\n",
              "    'hasPerk': False,\n",
              "    'id': '586ae4d607ac0762edd131f5',\n",
              "    'location': {'address': '768 N Rengstorff Ave',\n",
              "     'cc': 'US',\n",
              "     'city': 'Mountain View',\n",
              "     'country': 'United States',\n",
              "     'distance': 1217,\n",
              "     'formattedAddress': ['768 N Rengstorff Ave',\n",
              "      'Mountain View, CA 94043',\n",
              "      'United States'],\n",
              "     'labeledLatLngs': [{'label': 'display',\n",
              "       'lat': 37.413328,\n",
              "       'lng': -122.09310900000001}],\n",
              "     'lat': 37.413328,\n",
              "     'lng': -122.09310900000001,\n",
              "     'postalCode': '94043',\n",
              "     'state': 'CA'},\n",
              "    'name': 'St Croix Apartments',\n",
              "    'referralId': 'v-1584913282'},\n",
              "   {'categories': [{'icon': {'prefix': 'https://ss3.4sqi.net/img/categories_v2/building/apartment_',\n",
              "       'suffix': '.png'},\n",
              "      'id': '4d954b06a243a5684965b473',\n",
              "      'name': 'Residential Building (Apartment / Condo)',\n",
              "      'pluralName': 'Residential Buildings (Apartments / Condos)',\n",
              "      'primary': True,\n",
              "      'shortName': 'Residential'}],\n",
              "    'hasPerk': False,\n",
              "    'id': '4dbcbc561e72b351cabb719e',\n",
              "    'location': {'address': '2035 W Middlefield Rd',\n",
              "     'cc': 'US',\n",
              "     'city': 'Mountain View',\n",
              "     'country': 'United States',\n",
              "     'distance': 1383,\n",
              "     'formattedAddress': ['2035 W Middlefield Rd',\n",
              "      'Mountain View, CA 94043',\n",
              "      'United States'],\n",
              "     'labeledLatLngs': [{'label': 'display',\n",
              "       'lat': 37.411134999999994,\n",
              "       'lng': -122.091952}],\n",
              "     'lat': 37.411134999999994,\n",
              "     'lng': -122.091952,\n",
              "     'postalCode': '94043',\n",
              "     'state': 'CA'},\n",
              "    'name': 'Alpine Meadows Apartments',\n",
              "    'referralId': 'v-1584913282'},\n",
              "   {'categories': [{'icon': {'prefix': 'https://ss3.4sqi.net/img/categories_v2/building/apartment_',\n",
              "       'suffix': '.png'},\n",
              "      'id': '4d954b06a243a5684965b473',\n",
              "      'name': 'Residential Building (Apartment / Condo)',\n",
              "      'pluralName': 'Residential Buildings (Apartments / Condos)',\n",
              "      'primary': True,\n",
              "      'shortName': 'Residential'}],\n",
              "    'hasPerk': False,\n",
              "    'id': '552f2c0a498ec8363ebd5211',\n",
              "    'location': {'address': '2210 Rock St',\n",
              "     'cc': 'US',\n",
              "     'city': 'Mountain View',\n",
              "     'country': 'United States',\n",
              "     'distance': 1322,\n",
              "     'formattedAddress': ['2210 Rock St',\n",
              "      'Mountain View, CA 94043',\n",
              "      'United States'],\n",
              "     'labeledLatLngs': [{'label': 'display',\n",
              "       'lat': 37.413226,\n",
              "       'lng': -122.094959}],\n",
              "     'lat': 37.413226,\n",
              "     'lng': -122.094959,\n",
              "     'postalCode': '94043',\n",
              "     'state': 'CA'},\n",
              "    'name': 'Somerset place apartments',\n",
              "    'referralId': 'v-1584913282'},\n",
              "   {'categories': [{'icon': {'prefix': 'https://ss3.4sqi.net/img/categories_v2/building/apartment_',\n",
              "       'suffix': '.png'},\n",
              "      'id': '4d954b06a243a5684965b473',\n",
              "      'name': 'Residential Building (Apartment / Condo)',\n",
              "      'pluralName': 'Residential Buildings (Apartments / Condos)',\n",
              "      'primary': True,\n",
              "      'shortName': 'Residential'}],\n",
              "    'hasPerk': False,\n",
              "    'id': '5ceb14971acf11002c70a8a4',\n",
              "    'location': {'cc': 'US',\n",
              "     'city': 'Mountain View',\n",
              "     'country': 'United States',\n",
              "     'distance': 1739,\n",
              "     'formattedAddress': ['Mountain View, CA 94043', 'United States'],\n",
              "     'labeledLatLngs': [{'label': 'display',\n",
              "       'lat': 37.408002,\n",
              "       'lng': -122.092958}],\n",
              "     'lat': 37.408002,\n",
              "     'lng': -122.092958,\n",
              "     'postalCode': '94043',\n",
              "     'state': 'CA'},\n",
              "    'name': 'Palmero Apartments',\n",
              "    'referralId': 'v-1584913282'},\n",
              "   {'categories': [{'icon': {'prefix': 'https://ss3.4sqi.net/img/categories_v2/building/apartment_',\n",
              "       'suffix': '.png'},\n",
              "      'id': '4d954b06a243a5684965b473',\n",
              "      'name': 'Residential Building (Apartment / Condo)',\n",
              "      'pluralName': 'Residential Buildings (Apartments / Condos)',\n",
              "      'primary': True,\n",
              "      'shortName': 'Residential'}],\n",
              "    'hasPerk': False,\n",
              "    'id': '4b9d556af964a52070a436e3',\n",
              "    'location': {'address': 'Rock Street',\n",
              "     'cc': 'US',\n",
              "     'city': 'Mountain View',\n",
              "     'country': 'United States',\n",
              "     'crossStreet': 'at Rengstorff',\n",
              "     'distance': 1476,\n",
              "     'formattedAddress': ['Rock Street (at Rengstorff)',\n",
              "      'Mountain View, CA',\n",
              "      'United States'],\n",
              "     'labeledLatLngs': [{'label': 'display',\n",
              "       'lat': 37.41218,\n",
              "       'lng': -122.096096}],\n",
              "     'lat': 37.41218,\n",
              "     'lng': -122.096096,\n",
              "     'state': 'CA'},\n",
              "    'name': 'Woodview Apartments',\n",
              "    'referralId': 'v-1584913282'},\n",
              "   {'categories': [{'icon': {'prefix': 'https://ss3.4sqi.net/img/categories_v2/building/apartment_',\n",
              "       'suffix': '.png'},\n",
              "      'id': '4d954b06a243a5684965b473',\n",
              "      'name': 'Residential Building (Apartment / Condo)',\n",
              "      'pluralName': 'Residential Buildings (Apartments / Condos)',\n",
              "      'primary': True,\n",
              "      'shortName': 'Residential'}],\n",
              "    'hasPerk': False,\n",
              "    'id': '4d9e83799bf0a35dc024fd0a',\n",
              "    'location': {'address': '648 San Antonio Rd',\n",
              "     'cc': 'US',\n",
              "     'city': 'Palo Alto',\n",
              "     'country': 'United States',\n",
              "     'crossStreet': 'at Middlefield Rd',\n",
              "     'distance': 1835,\n",
              "     'formattedAddress': ['648 San Antonio Rd (at Middlefield Rd)',\n",
              "      'Palo Alto, CA 94306',\n",
              "      'United States'],\n",
              "     'labeledLatLngs': [{'label': 'display',\n",
              "       'lat': 37.413911999999996,\n",
              "       'lng': -122.10331200000002}],\n",
              "     'lat': 37.413911999999996,\n",
              "     'lng': -122.10331200000002,\n",
              "     'postalCode': '94306',\n",
              "     'state': 'CA'},\n",
              "    'name': 'Palo Alto Gardens Apartments',\n",
              "    'referralId': 'v-1584913282'},\n",
              "   {'categories': [{'icon': {'prefix': 'https://ss3.4sqi.net/img/categories_v2/building/apartment_',\n",
              "       'suffix': '.png'},\n",
              "      'id': '4d954b06a243a5684965b473',\n",
              "      'name': 'Residential Building (Apartment / Condo)',\n",
              "      'pluralName': 'Residential Buildings (Apartments / Condos)',\n",
              "      'primary': True,\n",
              "      'shortName': 'Residential'}],\n",
              "    'hasPerk': False,\n",
              "    'id': '54f92093498e29387a372bce',\n",
              "    'location': {'address': '1555 W Middlefield Rd',\n",
              "     'cc': 'US',\n",
              "     'city': 'Mountain View',\n",
              "     'country': 'United States',\n",
              "     'distance': 1615,\n",
              "     'formattedAddress': ['1555 W Middlefield Rd',\n",
              "      'Mountain View, CA 94043',\n",
              "      'United States'],\n",
              "     'labeledLatLngs': [{'label': 'display',\n",
              "       'lat': 37.408105,\n",
              "       'lng': -122.083125}],\n",
              "     'lat': 37.408105,\n",
              "     'lng': -122.083125,\n",
              "     'postalCode': '94043',\n",
              "     'state': 'CA'},\n",
              "    'name': 'Meadowoods Apartments',\n",
              "    'referralId': 'v-1584913282'}]}}"
            ]
          },
          "metadata": {
            "tags": []
          },
          "execution_count": 60
        }
      ]
    },
    {
      "cell_type": "code",
      "metadata": {
        "id": "gGta2S3aMdao",
        "colab_type": "code",
        "colab": {
          "base_uri": "https://localhost:8080/",
          "height": 394
        },
        "outputId": "345d29b1-91c9-43ca-fe22-79d793231e5c"
      },
      "source": [
        "# assign relevant part of JSON to venues\n",
        "venues = results['response']['venues']\n",
        "\n",
        "# tranform venues into a dataframe\n",
        "dataframe = json_normalize(venues)\n",
        "dataframe.head()"
      ],
      "execution_count": 61,
      "outputs": [
        {
          "output_type": "execute_result",
          "data": {
            "text/html": [
              "<div>\n",
              "<style scoped>\n",
              "    .dataframe tbody tr th:only-of-type {\n",
              "        vertical-align: middle;\n",
              "    }\n",
              "\n",
              "    .dataframe tbody tr th {\n",
              "        vertical-align: top;\n",
              "    }\n",
              "\n",
              "    .dataframe thead th {\n",
              "        text-align: right;\n",
              "    }\n",
              "</style>\n",
              "<table border=\"1\" class=\"dataframe\">\n",
              "  <thead>\n",
              "    <tr style=\"text-align: right;\">\n",
              "      <th></th>\n",
              "      <th>id</th>\n",
              "      <th>name</th>\n",
              "      <th>categories</th>\n",
              "      <th>referralId</th>\n",
              "      <th>hasPerk</th>\n",
              "      <th>location.address</th>\n",
              "      <th>location.lat</th>\n",
              "      <th>location.lng</th>\n",
              "      <th>location.labeledLatLngs</th>\n",
              "      <th>location.distance</th>\n",
              "      <th>location.postalCode</th>\n",
              "      <th>location.cc</th>\n",
              "      <th>location.city</th>\n",
              "      <th>location.state</th>\n",
              "      <th>location.country</th>\n",
              "      <th>location.formattedAddress</th>\n",
              "      <th>location.crossStreet</th>\n",
              "    </tr>\n",
              "  </thead>\n",
              "  <tbody>\n",
              "    <tr>\n",
              "      <th>0</th>\n",
              "      <td>586ae4d607ac0762edd131f5</td>\n",
              "      <td>St Croix Apartments</td>\n",
              "      <td>[{'id': '4d954b06a243a5684965b473', 'name': 'R...</td>\n",
              "      <td>v-1584913282</td>\n",
              "      <td>False</td>\n",
              "      <td>768 N Rengstorff Ave</td>\n",
              "      <td>37.413328</td>\n",
              "      <td>-122.093109</td>\n",
              "      <td>[{'label': 'display', 'lat': 37.413328, 'lng':...</td>\n",
              "      <td>1217</td>\n",
              "      <td>94043</td>\n",
              "      <td>US</td>\n",
              "      <td>Mountain View</td>\n",
              "      <td>CA</td>\n",
              "      <td>United States</td>\n",
              "      <td>[768 N Rengstorff Ave, Mountain View, CA 94043...</td>\n",
              "      <td>NaN</td>\n",
              "    </tr>\n",
              "    <tr>\n",
              "      <th>1</th>\n",
              "      <td>4dbcbc561e72b351cabb719e</td>\n",
              "      <td>Alpine Meadows Apartments</td>\n",
              "      <td>[{'id': '4d954b06a243a5684965b473', 'name': 'R...</td>\n",
              "      <td>v-1584913282</td>\n",
              "      <td>False</td>\n",
              "      <td>2035 W Middlefield Rd</td>\n",
              "      <td>37.411135</td>\n",
              "      <td>-122.091952</td>\n",
              "      <td>[{'label': 'display', 'lat': 37.41113499999999...</td>\n",
              "      <td>1383</td>\n",
              "      <td>94043</td>\n",
              "      <td>US</td>\n",
              "      <td>Mountain View</td>\n",
              "      <td>CA</td>\n",
              "      <td>United States</td>\n",
              "      <td>[2035 W Middlefield Rd, Mountain View, CA 9404...</td>\n",
              "      <td>NaN</td>\n",
              "    </tr>\n",
              "    <tr>\n",
              "      <th>2</th>\n",
              "      <td>552f2c0a498ec8363ebd5211</td>\n",
              "      <td>Somerset place apartments</td>\n",
              "      <td>[{'id': '4d954b06a243a5684965b473', 'name': 'R...</td>\n",
              "      <td>v-1584913282</td>\n",
              "      <td>False</td>\n",
              "      <td>2210 Rock St</td>\n",
              "      <td>37.413226</td>\n",
              "      <td>-122.094959</td>\n",
              "      <td>[{'label': 'display', 'lat': 37.413226, 'lng':...</td>\n",
              "      <td>1322</td>\n",
              "      <td>94043</td>\n",
              "      <td>US</td>\n",
              "      <td>Mountain View</td>\n",
              "      <td>CA</td>\n",
              "      <td>United States</td>\n",
              "      <td>[2210 Rock St, Mountain View, CA 94043, United...</td>\n",
              "      <td>NaN</td>\n",
              "    </tr>\n",
              "    <tr>\n",
              "      <th>3</th>\n",
              "      <td>5ceb14971acf11002c70a8a4</td>\n",
              "      <td>Palmero Apartments</td>\n",
              "      <td>[{'id': '4d954b06a243a5684965b473', 'name': 'R...</td>\n",
              "      <td>v-1584913282</td>\n",
              "      <td>False</td>\n",
              "      <td>NaN</td>\n",
              "      <td>37.408002</td>\n",
              "      <td>-122.092958</td>\n",
              "      <td>[{'label': 'display', 'lat': 37.408002, 'lng':...</td>\n",
              "      <td>1739</td>\n",
              "      <td>94043</td>\n",
              "      <td>US</td>\n",
              "      <td>Mountain View</td>\n",
              "      <td>CA</td>\n",
              "      <td>United States</td>\n",
              "      <td>[Mountain View, CA 94043, United States]</td>\n",
              "      <td>NaN</td>\n",
              "    </tr>\n",
              "    <tr>\n",
              "      <th>4</th>\n",
              "      <td>4b9d556af964a52070a436e3</td>\n",
              "      <td>Woodview Apartments</td>\n",
              "      <td>[{'id': '4d954b06a243a5684965b473', 'name': 'R...</td>\n",
              "      <td>v-1584913282</td>\n",
              "      <td>False</td>\n",
              "      <td>Rock Street</td>\n",
              "      <td>37.412180</td>\n",
              "      <td>-122.096096</td>\n",
              "      <td>[{'label': 'display', 'lat': 37.41218, 'lng': ...</td>\n",
              "      <td>1476</td>\n",
              "      <td>NaN</td>\n",
              "      <td>US</td>\n",
              "      <td>Mountain View</td>\n",
              "      <td>CA</td>\n",
              "      <td>United States</td>\n",
              "      <td>[Rock Street (at Rengstorff), Mountain View, C...</td>\n",
              "      <td>at Rengstorff</td>\n",
              "    </tr>\n",
              "  </tbody>\n",
              "</table>\n",
              "</div>"
            ],
            "text/plain": [
              "                         id  ... location.crossStreet\n",
              "0  586ae4d607ac0762edd131f5  ...                  NaN\n",
              "1  4dbcbc561e72b351cabb719e  ...                  NaN\n",
              "2  552f2c0a498ec8363ebd5211  ...                  NaN\n",
              "3  5ceb14971acf11002c70a8a4  ...                  NaN\n",
              "4  4b9d556af964a52070a436e3  ...        at Rengstorff\n",
              "\n",
              "[5 rows x 17 columns]"
            ]
          },
          "metadata": {
            "tags": []
          },
          "execution_count": 61
        }
      ]
    },
    {
      "cell_type": "code",
      "metadata": {
        "id": "UeFWFGcAMr2x",
        "colab_type": "code",
        "colab": {
          "base_uri": "https://localhost:8080/",
          "height": 643
        },
        "outputId": "73d0b646-b262-4e06-d2bc-6fad823c3388"
      },
      "source": [
        "# keep only columns that include venue name, and anything that is associated with location\n",
        "filtered_columns = ['name', 'categories'] + [col for col in dataframe.columns if col.startswith('location.')] + ['id']\n",
        "dataframe_filtered = dataframe.loc[:, filtered_columns]\n",
        "\n",
        "# function that extracts the category of the venue\n",
        "def get_category_type(row):\n",
        "    try:\n",
        "        categories_list = row['categories']\n",
        "    except:\n",
        "        categories_list = row['venue.categories']\n",
        "        \n",
        "    if len(categories_list) == 0:\n",
        "        return None\n",
        "    else:\n",
        "        return categories_list[0]['name']\n",
        "\n",
        "# filter the category for each row\n",
        "dataframe_filtered['categories'] = dataframe_filtered.apply(get_category_type, axis=1)\n",
        "\n",
        "# clean column names by keeping only last term\n",
        "dataframe_filtered.columns = [column.split('.')[-1] for column in dataframe_filtered.columns]\n",
        "\n",
        "dataframe_filtered"
      ],
      "execution_count": 62,
      "outputs": [
        {
          "output_type": "execute_result",
          "data": {
            "text/html": [
              "<div>\n",
              "<style scoped>\n",
              "    .dataframe tbody tr th:only-of-type {\n",
              "        vertical-align: middle;\n",
              "    }\n",
              "\n",
              "    .dataframe tbody tr th {\n",
              "        vertical-align: top;\n",
              "    }\n",
              "\n",
              "    .dataframe thead th {\n",
              "        text-align: right;\n",
              "    }\n",
              "</style>\n",
              "<table border=\"1\" class=\"dataframe\">\n",
              "  <thead>\n",
              "    <tr style=\"text-align: right;\">\n",
              "      <th></th>\n",
              "      <th>name</th>\n",
              "      <th>categories</th>\n",
              "      <th>address</th>\n",
              "      <th>lat</th>\n",
              "      <th>lng</th>\n",
              "      <th>labeledLatLngs</th>\n",
              "      <th>distance</th>\n",
              "      <th>postalCode</th>\n",
              "      <th>cc</th>\n",
              "      <th>city</th>\n",
              "      <th>state</th>\n",
              "      <th>country</th>\n",
              "      <th>formattedAddress</th>\n",
              "      <th>crossStreet</th>\n",
              "      <th>id</th>\n",
              "    </tr>\n",
              "  </thead>\n",
              "  <tbody>\n",
              "    <tr>\n",
              "      <th>0</th>\n",
              "      <td>St Croix Apartments</td>\n",
              "      <td>Residential Building (Apartment / Condo)</td>\n",
              "      <td>768 N Rengstorff Ave</td>\n",
              "      <td>37.413328</td>\n",
              "      <td>-122.093109</td>\n",
              "      <td>[{'label': 'display', 'lat': 37.413328, 'lng':...</td>\n",
              "      <td>1217</td>\n",
              "      <td>94043</td>\n",
              "      <td>US</td>\n",
              "      <td>Mountain View</td>\n",
              "      <td>CA</td>\n",
              "      <td>United States</td>\n",
              "      <td>[768 N Rengstorff Ave, Mountain View, CA 94043...</td>\n",
              "      <td>NaN</td>\n",
              "      <td>586ae4d607ac0762edd131f5</td>\n",
              "    </tr>\n",
              "    <tr>\n",
              "      <th>1</th>\n",
              "      <td>Alpine Meadows Apartments</td>\n",
              "      <td>Residential Building (Apartment / Condo)</td>\n",
              "      <td>2035 W Middlefield Rd</td>\n",
              "      <td>37.411135</td>\n",
              "      <td>-122.091952</td>\n",
              "      <td>[{'label': 'display', 'lat': 37.41113499999999...</td>\n",
              "      <td>1383</td>\n",
              "      <td>94043</td>\n",
              "      <td>US</td>\n",
              "      <td>Mountain View</td>\n",
              "      <td>CA</td>\n",
              "      <td>United States</td>\n",
              "      <td>[2035 W Middlefield Rd, Mountain View, CA 9404...</td>\n",
              "      <td>NaN</td>\n",
              "      <td>4dbcbc561e72b351cabb719e</td>\n",
              "    </tr>\n",
              "    <tr>\n",
              "      <th>2</th>\n",
              "      <td>Somerset place apartments</td>\n",
              "      <td>Residential Building (Apartment / Condo)</td>\n",
              "      <td>2210 Rock St</td>\n",
              "      <td>37.413226</td>\n",
              "      <td>-122.094959</td>\n",
              "      <td>[{'label': 'display', 'lat': 37.413226, 'lng':...</td>\n",
              "      <td>1322</td>\n",
              "      <td>94043</td>\n",
              "      <td>US</td>\n",
              "      <td>Mountain View</td>\n",
              "      <td>CA</td>\n",
              "      <td>United States</td>\n",
              "      <td>[2210 Rock St, Mountain View, CA 94043, United...</td>\n",
              "      <td>NaN</td>\n",
              "      <td>552f2c0a498ec8363ebd5211</td>\n",
              "    </tr>\n",
              "    <tr>\n",
              "      <th>3</th>\n",
              "      <td>Palmero Apartments</td>\n",
              "      <td>Residential Building (Apartment / Condo)</td>\n",
              "      <td>NaN</td>\n",
              "      <td>37.408002</td>\n",
              "      <td>-122.092958</td>\n",
              "      <td>[{'label': 'display', 'lat': 37.408002, 'lng':...</td>\n",
              "      <td>1739</td>\n",
              "      <td>94043</td>\n",
              "      <td>US</td>\n",
              "      <td>Mountain View</td>\n",
              "      <td>CA</td>\n",
              "      <td>United States</td>\n",
              "      <td>[Mountain View, CA 94043, United States]</td>\n",
              "      <td>NaN</td>\n",
              "      <td>5ceb14971acf11002c70a8a4</td>\n",
              "    </tr>\n",
              "    <tr>\n",
              "      <th>4</th>\n",
              "      <td>Woodview Apartments</td>\n",
              "      <td>Residential Building (Apartment / Condo)</td>\n",
              "      <td>Rock Street</td>\n",
              "      <td>37.412180</td>\n",
              "      <td>-122.096096</td>\n",
              "      <td>[{'label': 'display', 'lat': 37.41218, 'lng': ...</td>\n",
              "      <td>1476</td>\n",
              "      <td>NaN</td>\n",
              "      <td>US</td>\n",
              "      <td>Mountain View</td>\n",
              "      <td>CA</td>\n",
              "      <td>United States</td>\n",
              "      <td>[Rock Street (at Rengstorff), Mountain View, C...</td>\n",
              "      <td>at Rengstorff</td>\n",
              "      <td>4b9d556af964a52070a436e3</td>\n",
              "    </tr>\n",
              "    <tr>\n",
              "      <th>5</th>\n",
              "      <td>Palo Alto Gardens Apartments</td>\n",
              "      <td>Residential Building (Apartment / Condo)</td>\n",
              "      <td>648 San Antonio Rd</td>\n",
              "      <td>37.413912</td>\n",
              "      <td>-122.103312</td>\n",
              "      <td>[{'label': 'display', 'lat': 37.41391199999999...</td>\n",
              "      <td>1835</td>\n",
              "      <td>94306</td>\n",
              "      <td>US</td>\n",
              "      <td>Palo Alto</td>\n",
              "      <td>CA</td>\n",
              "      <td>United States</td>\n",
              "      <td>[648 San Antonio Rd (at Middlefield Rd), Palo ...</td>\n",
              "      <td>at Middlefield Rd</td>\n",
              "      <td>4d9e83799bf0a35dc024fd0a</td>\n",
              "    </tr>\n",
              "    <tr>\n",
              "      <th>6</th>\n",
              "      <td>Meadowoods Apartments</td>\n",
              "      <td>Residential Building (Apartment / Condo)</td>\n",
              "      <td>1555 W Middlefield Rd</td>\n",
              "      <td>37.408105</td>\n",
              "      <td>-122.083125</td>\n",
              "      <td>[{'label': 'display', 'lat': 37.408105, 'lng':...</td>\n",
              "      <td>1615</td>\n",
              "      <td>94043</td>\n",
              "      <td>US</td>\n",
              "      <td>Mountain View</td>\n",
              "      <td>CA</td>\n",
              "      <td>United States</td>\n",
              "      <td>[1555 W Middlefield Rd, Mountain View, CA 9404...</td>\n",
              "      <td>NaN</td>\n",
              "      <td>54f92093498e29387a372bce</td>\n",
              "    </tr>\n",
              "  </tbody>\n",
              "</table>\n",
              "</div>"
            ],
            "text/plain": [
              "                           name  ...                        id\n",
              "0           St Croix Apartments  ...  586ae4d607ac0762edd131f5\n",
              "1     Alpine Meadows Apartments  ...  4dbcbc561e72b351cabb719e\n",
              "2     Somerset place apartments  ...  552f2c0a498ec8363ebd5211\n",
              "3            Palmero Apartments  ...  5ceb14971acf11002c70a8a4\n",
              "4           Woodview Apartments  ...  4b9d556af964a52070a436e3\n",
              "5  Palo Alto Gardens Apartments  ...  4d9e83799bf0a35dc024fd0a\n",
              "6         Meadowoods Apartments  ...  54f92093498e29387a372bce\n",
              "\n",
              "[7 rows x 15 columns]"
            ]
          },
          "metadata": {
            "tags": []
          },
          "execution_count": 62
        }
      ]
    },
    {
      "cell_type": "code",
      "metadata": {
        "id": "e9fNsgsnM2il",
        "colab_type": "code",
        "colab": {
          "base_uri": "https://localhost:8080/",
          "height": 153
        },
        "outputId": "f0d451a0-d8bd-4bf6-9352-16d5eaff0137"
      },
      "source": [
        "dataframe_filtered.name"
      ],
      "execution_count": 63,
      "outputs": [
        {
          "output_type": "execute_result",
          "data": {
            "text/plain": [
              "0             St Croix Apartments\n",
              "1       Alpine Meadows Apartments\n",
              "2       Somerset place apartments\n",
              "3              Palmero Apartments\n",
              "4             Woodview Apartments\n",
              "5    Palo Alto Gardens Apartments\n",
              "6           Meadowoods Apartments\n",
              "Name: name, dtype: object"
            ]
          },
          "metadata": {
            "tags": []
          },
          "execution_count": 63
        }
      ]
    },
    {
      "cell_type": "code",
      "metadata": {
        "id": "m_1xnOIrM5dj",
        "colab_type": "code",
        "colab": {}
      },
      "source": [
        "df_google = dataframe_filtered"
      ],
      "execution_count": 0,
      "outputs": []
    },
    {
      "cell_type": "code",
      "metadata": {
        "id": "3TjiDF3tNEVd",
        "colab_type": "code",
        "colab": {
          "base_uri": "https://localhost:8080/",
          "height": 723
        },
        "outputId": "31b4bcf5-53a6-49e1-c0f1-2397bcc5cfda"
      },
      "source": [
        "venues_map = folium.Map(location=[latitude, longitude], zoom_start=13) # generate map centred around the Center\n",
        "\n",
        "# add a red circle marker to represent the Center\n",
        "folium.CircleMarker(\n",
        "    [latitude, longitude],\n",
        "    radius=10,\n",
        "    color='red',\n",
        "    popup='Googleplex',\n",
        "    fill = True,\n",
        "    fill_color = 'red',\n",
        "    fill_opacity = 0.6\n",
        ").add_to(venues_map)\n",
        "\n",
        "# add the Coffee restaurants as blue circle markers\n",
        "for lat, lng, label in zip(dataframe_filtered.lat, dataframe_filtered.lng, dataframe_filtered.categories):\n",
        "    folium.CircleMarker(\n",
        "        [lat, lng],\n",
        "        radius=5,\n",
        "        color='blue',\n",
        "        popup=label,\n",
        "        fill = True,\n",
        "        fill_color='blue',\n",
        "        fill_opacity=0.6\n",
        "    ).add_to(venues_map)\n",
        "\n",
        "# display map\n",
        "venues_map"
      ],
      "execution_count": 65,
      "outputs": [
        {
          "output_type": "execute_result",
          "data": {
            "text/html": [
              "<div style=\"width:100%;\"><div style=\"position:relative;width:100%;height:0;padding-bottom:60%;\"><iframe src=\"about:blank\" style=\"position:absolute;width:100%;height:100%;left:0;top:0;border:none !important;\" data-html=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 onload=\"this.contentDocument.open();this.contentDocument.write(atob(this.getAttribute('data-html')));this.contentDocument.close();\" allowfullscreen webkitallowfullscreen mozallowfullscreen></iframe></div></div>"
            ],
            "text/plain": [
              "<folium.folium.Map at 0x7f5f9a767ef0>"
            ]
          },
          "metadata": {
            "tags": []
          },
          "execution_count": 65
        }
      ]
    },
    {
      "cell_type": "markdown",
      "metadata": {
        "id": "AF7jZDwbMA3W",
        "colab_type": "text"
      },
      "source": [
        "### c. Intel Corporation, Santa Clara"
      ]
    },
    {
      "cell_type": "code",
      "metadata": {
        "id": "S5PwAs8bNWz-",
        "colab_type": "code",
        "colab": {
          "base_uri": "https://localhost:8080/",
          "height": 34
        },
        "outputId": "b069fe75-1842-4784-d1f9-953b7d749f7f"
      },
      "source": [
        "address = '2200 Mission College Blvd, Santa Clara, CA 95054'\n",
        "\n",
        "geolocator = Nominatim(user_agent=\"foursquare_agent\")\n",
        "location = geolocator.geocode(address)\n",
        "latitude = location.latitude\n",
        "longitude = location.longitude\n",
        "print(latitude, longitude)"
      ],
      "execution_count": 71,
      "outputs": [
        {
          "output_type": "stream",
          "text": [
            "37.3882663 -121.9637798\n"
          ],
          "name": "stdout"
        }
      ]
    },
    {
      "cell_type": "code",
      "metadata": {
        "id": "RsQR2V0CNmzB",
        "colab_type": "code",
        "colab": {
          "base_uri": "https://localhost:8080/",
          "height": 54
        },
        "outputId": "dc5d26a6-b942-4c2c-f31c-e08f94985f9f"
      },
      "source": [
        "url = 'https://api.foursquare.com/v2/venues/search?client_id={}&client_secret={}&ll={},{}&v={}&query={}&radius={}&limit={}'.format(CLIENT_ID, CLIENT_SECRET, latitude, longitude, VERSION, search_query, radius, LIMIT)\n",
        "url"
      ],
      "execution_count": 72,
      "outputs": [
        {
          "output_type": "execute_result",
          "data": {
            "text/plain": [
              "'https://api.foursquare.com/v2/venues/search?client_id=Q3MQR20QDUUIGD3TVLRWXJNLFB0BVPQLAEGF5QAOUFVYI0YB&client_secret=QUUUG4MCZJAXY1TKY2L4C4NMG4HLSI2TZAHBGXQJB4P3VTET&ll=37.3882663,-121.9637798&v=20180604&query=Apartment&radius=1600&limit=30'"
            ]
          },
          "metadata": {
            "tags": []
          },
          "execution_count": 72
        }
      ]
    },
    {
      "cell_type": "code",
      "metadata": {
        "id": "B50B_WGWNtgH",
        "colab_type": "code",
        "colab": {
          "base_uri": "https://localhost:8080/",
          "height": 1000
        },
        "outputId": "6e21c72d-1acc-4c29-e75d-70db4ccf02ac"
      },
      "source": [
        "results = requests.get(url).json()\n",
        "results"
      ],
      "execution_count": 73,
      "outputs": [
        {
          "output_type": "execute_result",
          "data": {
            "text/plain": [
              "{'meta': {'code': 200, 'requestId': '5e77df1c6001fe001c7be23d'},\n",
              " 'response': {'venues': [{'categories': [{'icon': {'prefix': 'https://ss3.4sqi.net/img/categories_v2/building/apartment_',\n",
              "       'suffix': '.png'},\n",
              "      'id': '4d954b06a243a5684965b473',\n",
              "      'name': 'Residential Building (Apartment / Condo)',\n",
              "      'pluralName': 'Residential Buildings (Apartments / Condos)',\n",
              "      'primary': True,\n",
              "      'shortName': 'Residential'}],\n",
              "    'hasPerk': False,\n",
              "    'id': '5aaa8a9f9b04730eee6df2b5',\n",
              "    'location': {'address': '3320 Montgomery Dr',\n",
              "     'cc': 'US',\n",
              "     'city': 'Santa Clara',\n",
              "     'country': 'United States',\n",
              "     'distance': 1125,\n",
              "     'formattedAddress': ['3320 Montgomery Dr',\n",
              "      'Santa Clara, CA 95054',\n",
              "      'United States'],\n",
              "     'labeledLatLngs': [{'label': 'display',\n",
              "       'lat': 37.3815558,\n",
              "       'lng': -121.9732975}],\n",
              "     'lat': 37.3815558,\n",
              "     'lng': -121.9732975,\n",
              "     'postalCode': '95054',\n",
              "     'state': 'CA'},\n",
              "    'name': 'Santa Clara Square Apartment Homes',\n",
              "    'referralId': 'v-1584914203'},\n",
              "   {'categories': [{'icon': {'prefix': 'https://ss3.4sqi.net/img/categories_v2/building/default_',\n",
              "       'suffix': '.png'},\n",
              "      'id': '4bf58dd8d48988d130941735',\n",
              "      'name': 'Building',\n",
              "      'pluralName': 'Buildings',\n",
              "      'primary': True,\n",
              "      'shortName': 'Building'}],\n",
              "    'hasPerk': False,\n",
              "    'id': '4e34a639483bf3839a26e8e0',\n",
              "    'location': {'address': '1650 Hope Dr.',\n",
              "     'cc': 'US',\n",
              "     'city': 'Santa Clara',\n",
              "     'country': 'United States',\n",
              "     'crossStreet': 'btwn Lafayette and Lick Mill',\n",
              "     'distance': 1323,\n",
              "     'formattedAddress': ['1650 Hope Dr. (btwn Lafayette and Lick Mill)',\n",
              "      'Santa Clara, CA 95054',\n",
              "      'United States'],\n",
              "     'labeledLatLngs': [{'label': 'display',\n",
              "       'lat': 37.39835,\n",
              "       'lng': -121.95586}],\n",
              "     'lat': 37.39835,\n",
              "     'lng': -121.95586,\n",
              "     'postalCode': '95054',\n",
              "     'state': 'CA'},\n",
              "    'name': 'Estancia at Santa Clara Apartments',\n",
              "    'referralId': 'v-1584914203'},\n",
              "   {'categories': [{'icon': {'prefix': 'https://ss3.4sqi.net/img/categories_v2/building/apartment_',\n",
              "       'suffix': '.png'},\n",
              "      'id': '4d954b06a243a5684965b473',\n",
              "      'name': 'Residential Building (Apartment / Condo)',\n",
              "      'pluralName': 'Residential Buildings (Apartments / Condos)',\n",
              "      'primary': True,\n",
              "      'shortName': 'Residential'}],\n",
              "    'hasPerk': False,\n",
              "    'id': '4c536f561b46c9b6ca13edcc',\n",
              "    'location': {'address': '1500 Vista Club Cir',\n",
              "     'cc': 'US',\n",
              "     'city': 'Santa Clara',\n",
              "     'country': 'United States',\n",
              "     'distance': 1628,\n",
              "     'formattedAddress': ['1500 Vista Club Cir',\n",
              "      'Santa Clara, CA 95054',\n",
              "      'United States'],\n",
              "     'labeledLatLngs': [{'label': 'display',\n",
              "       'lat': 37.40102985963084,\n",
              "       'lng': -121.95477338810612}],\n",
              "     'lat': 37.40102985963084,\n",
              "     'lng': -121.95477338810612,\n",
              "     'postalCode': '95054',\n",
              "     'state': 'CA'},\n",
              "    'name': 'Bellavista Apartments',\n",
              "    'referralId': 'v-1584914203'},\n",
              "   {'categories': [{'icon': {'prefix': 'https://ss3.4sqi.net/img/categories_v2/building/apartment_',\n",
              "       'suffix': '.png'},\n",
              "      'id': '4d954b06a243a5684965b473',\n",
              "      'name': 'Residential Building (Apartment / Condo)',\n",
              "      'pluralName': 'Residential Buildings (Apartments / Condos)',\n",
              "      'primary': True,\n",
              "      'shortName': 'Residential'}],\n",
              "    'hasPerk': False,\n",
              "    'id': '575e14ea498e09d3e59e977f',\n",
              "    'location': {'address': '4440 Bassett St',\n",
              "     'cc': 'US',\n",
              "     'city': 'Santa Clara',\n",
              "     'country': 'United States',\n",
              "     'distance': 964,\n",
              "     'formattedAddress': ['4440 Bassett St',\n",
              "      'Santa Clara, CA 95054',\n",
              "      'United States'],\n",
              "     'labeledLatLngs': [{'label': 'display',\n",
              "       'lat': 37.396622,\n",
              "       'lng': -121.96091299999999}],\n",
              "     'lat': 37.396622,\n",
              "     'lng': -121.96091299999999,\n",
              "     'postalCode': '95054',\n",
              "     'state': 'CA'},\n",
              "    'name': 'Bassett Davis Apartments',\n",
              "    'referralId': 'v-1584914203'},\n",
              "   {'categories': [{'icon': {'prefix': 'https://ss3.4sqi.net/img/categories_v2/building/apartment_',\n",
              "       'suffix': '.png'},\n",
              "      'id': '4d954b06a243a5684965b473',\n",
              "      'name': 'Residential Building (Apartment / Condo)',\n",
              "      'pluralName': 'Residential Buildings (Apartments / Condos)',\n",
              "      'primary': True,\n",
              "      'shortName': 'Residential'}],\n",
              "    'hasPerk': False,\n",
              "    'id': '4c9abcbca004a1cd09384b6e',\n",
              "    'location': {'address': '1518 Vista Club Cir',\n",
              "     'cc': 'US',\n",
              "     'city': 'Santa Clara',\n",
              "     'country': 'United States',\n",
              "     'distance': 1662,\n",
              "     'formattedAddress': ['1518 Vista Club Cir',\n",
              "      'Santa Clara, CA 95054',\n",
              "      'United States'],\n",
              "     'labeledLatLngs': [{'label': 'display',\n",
              "       'lat': 37.40157744889557,\n",
              "       'lng': -121.95526822283303}],\n",
              "     'lat': 37.40157744889557,\n",
              "     'lng': -121.95526822283303,\n",
              "     'postalCode': '95054',\n",
              "     'state': 'CA'},\n",
              "    'name': 'Bella Vista Apartments 1518',\n",
              "    'referralId': 'v-1584914203'},\n",
              "   {'categories': [{'icon': {'prefix': 'https://ss3.4sqi.net/img/categories_v2/building/apartment_',\n",
              "       'suffix': '.png'},\n",
              "      'id': '4d954b06a243a5684965b473',\n",
              "      'name': 'Residential Building (Apartment / Condo)',\n",
              "      'pluralName': 'Residential Buildings (Apartments / Condos)',\n",
              "      'primary': True,\n",
              "      'shortName': 'Residential'}],\n",
              "    'hasPerk': False,\n",
              "    'id': '4cd01f2d6200b1f7dd4ad228',\n",
              "    'location': {'cc': 'US',\n",
              "     'city': 'Santa Clara',\n",
              "     'country': 'United States',\n",
              "     'distance': 1573,\n",
              "     'formattedAddress': ['Santa Clara, CA 95054', 'United States'],\n",
              "     'labeledLatLngs': [{'label': 'display',\n",
              "       'lat': 37.40048834393895,\n",
              "       'lng': -121.95485163058076}],\n",
              "     'lat': 37.40048834393895,\n",
              "     'lng': -121.95485163058076,\n",
              "     'postalCode': '95054',\n",
              "     'state': 'CA'},\n",
              "    'name': 'Rivertown Apartments',\n",
              "    'referralId': 'v-1584914203'},\n",
              "   {'categories': [{'icon': {'prefix': 'https://ss3.4sqi.net/img/categories_v2/building/apartment_',\n",
              "       'suffix': '.png'},\n",
              "      'id': '4d954b06a243a5684965b473',\n",
              "      'name': 'Residential Building (Apartment / Condo)',\n",
              "      'pluralName': 'Residential Buildings (Apartments / Condos)',\n",
              "      'primary': True,\n",
              "      'shortName': 'Residential'}],\n",
              "    'hasPerk': False,\n",
              "    'id': '4b67708df964a520094f2be3',\n",
              "    'location': {'address': '1600 Nantucket Cir',\n",
              "     'cc': 'US',\n",
              "     'city': 'Santa Clara',\n",
              "     'country': 'United States',\n",
              "     'distance': 1854,\n",
              "     'formattedAddress': ['1600 Nantucket Cir',\n",
              "      'Santa Clara, CA 95054',\n",
              "      'United States'],\n",
              "     'labeledLatLngs': [{'label': 'display',\n",
              "       'lat': 37.40427945846252,\n",
              "       'lng': -121.9579844908292}],\n",
              "     'lat': 37.40427945846252,\n",
              "     'lng': -121.9579844908292,\n",
              "     'postalCode': '95054',\n",
              "     'state': 'CA'},\n",
              "    'name': 'Nantucket Apartments',\n",
              "    'referralId': 'v-1584914203'}]}}"
            ]
          },
          "metadata": {
            "tags": []
          },
          "execution_count": 73
        }
      ]
    },
    {
      "cell_type": "code",
      "metadata": {
        "id": "58AkYoP8QQb8",
        "colab_type": "code",
        "colab": {
          "base_uri": "https://localhost:8080/",
          "height": 445
        },
        "outputId": "5356ecb4-fe9a-4873-d2d1-61892316add8"
      },
      "source": [
        "# assign relevant part of JSON to venues\n",
        "venues = results['response']['venues']\n",
        "\n",
        "# tranform venues into a dataframe\n",
        "dataframe = json_normalize(venues)\n",
        "dataframe.head()"
      ],
      "execution_count": 74,
      "outputs": [
        {
          "output_type": "execute_result",
          "data": {
            "text/html": [
              "<div>\n",
              "<style scoped>\n",
              "    .dataframe tbody tr th:only-of-type {\n",
              "        vertical-align: middle;\n",
              "    }\n",
              "\n",
              "    .dataframe tbody tr th {\n",
              "        vertical-align: top;\n",
              "    }\n",
              "\n",
              "    .dataframe thead th {\n",
              "        text-align: right;\n",
              "    }\n",
              "</style>\n",
              "<table border=\"1\" class=\"dataframe\">\n",
              "  <thead>\n",
              "    <tr style=\"text-align: right;\">\n",
              "      <th></th>\n",
              "      <th>id</th>\n",
              "      <th>name</th>\n",
              "      <th>categories</th>\n",
              "      <th>referralId</th>\n",
              "      <th>hasPerk</th>\n",
              "      <th>location.address</th>\n",
              "      <th>location.lat</th>\n",
              "      <th>location.lng</th>\n",
              "      <th>location.labeledLatLngs</th>\n",
              "      <th>location.distance</th>\n",
              "      <th>location.postalCode</th>\n",
              "      <th>location.cc</th>\n",
              "      <th>location.city</th>\n",
              "      <th>location.state</th>\n",
              "      <th>location.country</th>\n",
              "      <th>location.formattedAddress</th>\n",
              "      <th>location.crossStreet</th>\n",
              "    </tr>\n",
              "  </thead>\n",
              "  <tbody>\n",
              "    <tr>\n",
              "      <th>0</th>\n",
              "      <td>5aaa8a9f9b04730eee6df2b5</td>\n",
              "      <td>Santa Clara Square Apartment Homes</td>\n",
              "      <td>[{'id': '4d954b06a243a5684965b473', 'name': 'R...</td>\n",
              "      <td>v-1584914203</td>\n",
              "      <td>False</td>\n",
              "      <td>3320 Montgomery Dr</td>\n",
              "      <td>37.381556</td>\n",
              "      <td>-121.973298</td>\n",
              "      <td>[{'label': 'display', 'lat': 37.3815558, 'lng'...</td>\n",
              "      <td>1125</td>\n",
              "      <td>95054</td>\n",
              "      <td>US</td>\n",
              "      <td>Santa Clara</td>\n",
              "      <td>CA</td>\n",
              "      <td>United States</td>\n",
              "      <td>[3320 Montgomery Dr, Santa Clara, CA 95054, Un...</td>\n",
              "      <td>NaN</td>\n",
              "    </tr>\n",
              "    <tr>\n",
              "      <th>1</th>\n",
              "      <td>4e34a639483bf3839a26e8e0</td>\n",
              "      <td>Estancia at Santa Clara Apartments</td>\n",
              "      <td>[{'id': '4bf58dd8d48988d130941735', 'name': 'B...</td>\n",
              "      <td>v-1584914203</td>\n",
              "      <td>False</td>\n",
              "      <td>1650 Hope Dr.</td>\n",
              "      <td>37.398350</td>\n",
              "      <td>-121.955860</td>\n",
              "      <td>[{'label': 'display', 'lat': 37.39835, 'lng': ...</td>\n",
              "      <td>1323</td>\n",
              "      <td>95054</td>\n",
              "      <td>US</td>\n",
              "      <td>Santa Clara</td>\n",
              "      <td>CA</td>\n",
              "      <td>United States</td>\n",
              "      <td>[1650 Hope Dr. (btwn Lafayette and Lick Mill),...</td>\n",
              "      <td>btwn Lafayette and Lick Mill</td>\n",
              "    </tr>\n",
              "    <tr>\n",
              "      <th>2</th>\n",
              "      <td>4c536f561b46c9b6ca13edcc</td>\n",
              "      <td>Bellavista Apartments</td>\n",
              "      <td>[{'id': '4d954b06a243a5684965b473', 'name': 'R...</td>\n",
              "      <td>v-1584914203</td>\n",
              "      <td>False</td>\n",
              "      <td>1500 Vista Club Cir</td>\n",
              "      <td>37.401030</td>\n",
              "      <td>-121.954773</td>\n",
              "      <td>[{'label': 'display', 'lat': 37.40102985963084...</td>\n",
              "      <td>1628</td>\n",
              "      <td>95054</td>\n",
              "      <td>US</td>\n",
              "      <td>Santa Clara</td>\n",
              "      <td>CA</td>\n",
              "      <td>United States</td>\n",
              "      <td>[1500 Vista Club Cir, Santa Clara, CA 95054, U...</td>\n",
              "      <td>NaN</td>\n",
              "    </tr>\n",
              "    <tr>\n",
              "      <th>3</th>\n",
              "      <td>575e14ea498e09d3e59e977f</td>\n",
              "      <td>Bassett Davis Apartments</td>\n",
              "      <td>[{'id': '4d954b06a243a5684965b473', 'name': 'R...</td>\n",
              "      <td>v-1584914203</td>\n",
              "      <td>False</td>\n",
              "      <td>4440 Bassett St</td>\n",
              "      <td>37.396622</td>\n",
              "      <td>-121.960913</td>\n",
              "      <td>[{'label': 'display', 'lat': 37.396622, 'lng':...</td>\n",
              "      <td>964</td>\n",
              "      <td>95054</td>\n",
              "      <td>US</td>\n",
              "      <td>Santa Clara</td>\n",
              "      <td>CA</td>\n",
              "      <td>United States</td>\n",
              "      <td>[4440 Bassett St, Santa Clara, CA 95054, Unite...</td>\n",
              "      <td>NaN</td>\n",
              "    </tr>\n",
              "    <tr>\n",
              "      <th>4</th>\n",
              "      <td>4c9abcbca004a1cd09384b6e</td>\n",
              "      <td>Bella Vista Apartments 1518</td>\n",
              "      <td>[{'id': '4d954b06a243a5684965b473', 'name': 'R...</td>\n",
              "      <td>v-1584914203</td>\n",
              "      <td>False</td>\n",
              "      <td>1518 Vista Club Cir</td>\n",
              "      <td>37.401577</td>\n",
              "      <td>-121.955268</td>\n",
              "      <td>[{'label': 'display', 'lat': 37.40157744889557...</td>\n",
              "      <td>1662</td>\n",
              "      <td>95054</td>\n",
              "      <td>US</td>\n",
              "      <td>Santa Clara</td>\n",
              "      <td>CA</td>\n",
              "      <td>United States</td>\n",
              "      <td>[1518 Vista Club Cir, Santa Clara, CA 95054, U...</td>\n",
              "      <td>NaN</td>\n",
              "    </tr>\n",
              "  </tbody>\n",
              "</table>\n",
              "</div>"
            ],
            "text/plain": [
              "                         id  ...          location.crossStreet\n",
              "0  5aaa8a9f9b04730eee6df2b5  ...                           NaN\n",
              "1  4e34a639483bf3839a26e8e0  ...  btwn Lafayette and Lick Mill\n",
              "2  4c536f561b46c9b6ca13edcc  ...                           NaN\n",
              "3  575e14ea498e09d3e59e977f  ...                           NaN\n",
              "4  4c9abcbca004a1cd09384b6e  ...                           NaN\n",
              "\n",
              "[5 rows x 17 columns]"
            ]
          },
          "metadata": {
            "tags": []
          },
          "execution_count": 74
        }
      ]
    },
    {
      "cell_type": "code",
      "metadata": {
        "id": "bQuOwIyLQXvf",
        "colab_type": "code",
        "colab": {
          "base_uri": "https://localhost:8080/",
          "height": 660
        },
        "outputId": "a91dc83e-2074-4593-a213-595c42db3145"
      },
      "source": [
        "# keep only columns that include venue name, and anything that is associated with location\n",
        "filtered_columns = ['name', 'categories'] + [col for col in dataframe.columns if col.startswith('location.')] + ['id']\n",
        "dataframe_filtered = dataframe.loc[:, filtered_columns]\n",
        "\n",
        "# function that extracts the category of the venue\n",
        "def get_category_type(row):\n",
        "    try:\n",
        "        categories_list = row['categories']\n",
        "    except:\n",
        "        categories_list = row['venue.categories']\n",
        "        \n",
        "    if len(categories_list) == 0:\n",
        "        return None\n",
        "    else:\n",
        "        return categories_list[0]['name']\n",
        "\n",
        "# filter the category for each row\n",
        "dataframe_filtered['categories'] = dataframe_filtered.apply(get_category_type, axis=1)\n",
        "\n",
        "# clean column names by keeping only last term\n",
        "dataframe_filtered.columns = [column.split('.')[-1] for column in dataframe_filtered.columns]\n",
        "\n",
        "dataframe_filtered"
      ],
      "execution_count": 75,
      "outputs": [
        {
          "output_type": "execute_result",
          "data": {
            "text/html": [
              "<div>\n",
              "<style scoped>\n",
              "    .dataframe tbody tr th:only-of-type {\n",
              "        vertical-align: middle;\n",
              "    }\n",
              "\n",
              "    .dataframe tbody tr th {\n",
              "        vertical-align: top;\n",
              "    }\n",
              "\n",
              "    .dataframe thead th {\n",
              "        text-align: right;\n",
              "    }\n",
              "</style>\n",
              "<table border=\"1\" class=\"dataframe\">\n",
              "  <thead>\n",
              "    <tr style=\"text-align: right;\">\n",
              "      <th></th>\n",
              "      <th>name</th>\n",
              "      <th>categories</th>\n",
              "      <th>address</th>\n",
              "      <th>lat</th>\n",
              "      <th>lng</th>\n",
              "      <th>labeledLatLngs</th>\n",
              "      <th>distance</th>\n",
              "      <th>postalCode</th>\n",
              "      <th>cc</th>\n",
              "      <th>city</th>\n",
              "      <th>state</th>\n",
              "      <th>country</th>\n",
              "      <th>formattedAddress</th>\n",
              "      <th>crossStreet</th>\n",
              "      <th>id</th>\n",
              "    </tr>\n",
              "  </thead>\n",
              "  <tbody>\n",
              "    <tr>\n",
              "      <th>0</th>\n",
              "      <td>Santa Clara Square Apartment Homes</td>\n",
              "      <td>Residential Building (Apartment / Condo)</td>\n",
              "      <td>3320 Montgomery Dr</td>\n",
              "      <td>37.381556</td>\n",
              "      <td>-121.973298</td>\n",
              "      <td>[{'label': 'display', 'lat': 37.3815558, 'lng'...</td>\n",
              "      <td>1125</td>\n",
              "      <td>95054</td>\n",
              "      <td>US</td>\n",
              "      <td>Santa Clara</td>\n",
              "      <td>CA</td>\n",
              "      <td>United States</td>\n",
              "      <td>[3320 Montgomery Dr, Santa Clara, CA 95054, Un...</td>\n",
              "      <td>NaN</td>\n",
              "      <td>5aaa8a9f9b04730eee6df2b5</td>\n",
              "    </tr>\n",
              "    <tr>\n",
              "      <th>1</th>\n",
              "      <td>Estancia at Santa Clara Apartments</td>\n",
              "      <td>Building</td>\n",
              "      <td>1650 Hope Dr.</td>\n",
              "      <td>37.398350</td>\n",
              "      <td>-121.955860</td>\n",
              "      <td>[{'label': 'display', 'lat': 37.39835, 'lng': ...</td>\n",
              "      <td>1323</td>\n",
              "      <td>95054</td>\n",
              "      <td>US</td>\n",
              "      <td>Santa Clara</td>\n",
              "      <td>CA</td>\n",
              "      <td>United States</td>\n",
              "      <td>[1650 Hope Dr. (btwn Lafayette and Lick Mill),...</td>\n",
              "      <td>btwn Lafayette and Lick Mill</td>\n",
              "      <td>4e34a639483bf3839a26e8e0</td>\n",
              "    </tr>\n",
              "    <tr>\n",
              "      <th>2</th>\n",
              "      <td>Bellavista Apartments</td>\n",
              "      <td>Residential Building (Apartment / Condo)</td>\n",
              "      <td>1500 Vista Club Cir</td>\n",
              "      <td>37.401030</td>\n",
              "      <td>-121.954773</td>\n",
              "      <td>[{'label': 'display', 'lat': 37.40102985963084...</td>\n",
              "      <td>1628</td>\n",
              "      <td>95054</td>\n",
              "      <td>US</td>\n",
              "      <td>Santa Clara</td>\n",
              "      <td>CA</td>\n",
              "      <td>United States</td>\n",
              "      <td>[1500 Vista Club Cir, Santa Clara, CA 95054, U...</td>\n",
              "      <td>NaN</td>\n",
              "      <td>4c536f561b46c9b6ca13edcc</td>\n",
              "    </tr>\n",
              "    <tr>\n",
              "      <th>3</th>\n",
              "      <td>Bassett Davis Apartments</td>\n",
              "      <td>Residential Building (Apartment / Condo)</td>\n",
              "      <td>4440 Bassett St</td>\n",
              "      <td>37.396622</td>\n",
              "      <td>-121.960913</td>\n",
              "      <td>[{'label': 'display', 'lat': 37.396622, 'lng':...</td>\n",
              "      <td>964</td>\n",
              "      <td>95054</td>\n",
              "      <td>US</td>\n",
              "      <td>Santa Clara</td>\n",
              "      <td>CA</td>\n",
              "      <td>United States</td>\n",
              "      <td>[4440 Bassett St, Santa Clara, CA 95054, Unite...</td>\n",
              "      <td>NaN</td>\n",
              "      <td>575e14ea498e09d3e59e977f</td>\n",
              "    </tr>\n",
              "    <tr>\n",
              "      <th>4</th>\n",
              "      <td>Bella Vista Apartments 1518</td>\n",
              "      <td>Residential Building (Apartment / Condo)</td>\n",
              "      <td>1518 Vista Club Cir</td>\n",
              "      <td>37.401577</td>\n",
              "      <td>-121.955268</td>\n",
              "      <td>[{'label': 'display', 'lat': 37.40157744889557...</td>\n",
              "      <td>1662</td>\n",
              "      <td>95054</td>\n",
              "      <td>US</td>\n",
              "      <td>Santa Clara</td>\n",
              "      <td>CA</td>\n",
              "      <td>United States</td>\n",
              "      <td>[1518 Vista Club Cir, Santa Clara, CA 95054, U...</td>\n",
              "      <td>NaN</td>\n",
              "      <td>4c9abcbca004a1cd09384b6e</td>\n",
              "    </tr>\n",
              "    <tr>\n",
              "      <th>5</th>\n",
              "      <td>Rivertown Apartments</td>\n",
              "      <td>Residential Building (Apartment / Condo)</td>\n",
              "      <td>NaN</td>\n",
              "      <td>37.400488</td>\n",
              "      <td>-121.954852</td>\n",
              "      <td>[{'label': 'display', 'lat': 37.40048834393895...</td>\n",
              "      <td>1573</td>\n",
              "      <td>95054</td>\n",
              "      <td>US</td>\n",
              "      <td>Santa Clara</td>\n",
              "      <td>CA</td>\n",
              "      <td>United States</td>\n",
              "      <td>[Santa Clara, CA 95054, United States]</td>\n",
              "      <td>NaN</td>\n",
              "      <td>4cd01f2d6200b1f7dd4ad228</td>\n",
              "    </tr>\n",
              "    <tr>\n",
              "      <th>6</th>\n",
              "      <td>Nantucket Apartments</td>\n",
              "      <td>Residential Building (Apartment / Condo)</td>\n",
              "      <td>1600 Nantucket Cir</td>\n",
              "      <td>37.404279</td>\n",
              "      <td>-121.957984</td>\n",
              "      <td>[{'label': 'display', 'lat': 37.40427945846252...</td>\n",
              "      <td>1854</td>\n",
              "      <td>95054</td>\n",
              "      <td>US</td>\n",
              "      <td>Santa Clara</td>\n",
              "      <td>CA</td>\n",
              "      <td>United States</td>\n",
              "      <td>[1600 Nantucket Cir, Santa Clara, CA 95054, Un...</td>\n",
              "      <td>NaN</td>\n",
              "      <td>4b67708df964a520094f2be3</td>\n",
              "    </tr>\n",
              "  </tbody>\n",
              "</table>\n",
              "</div>"
            ],
            "text/plain": [
              "                                 name  ...                        id\n",
              "0  Santa Clara Square Apartment Homes  ...  5aaa8a9f9b04730eee6df2b5\n",
              "1  Estancia at Santa Clara Apartments  ...  4e34a639483bf3839a26e8e0\n",
              "2               Bellavista Apartments  ...  4c536f561b46c9b6ca13edcc\n",
              "3            Bassett Davis Apartments  ...  575e14ea498e09d3e59e977f\n",
              "4         Bella Vista Apartments 1518  ...  4c9abcbca004a1cd09384b6e\n",
              "5                Rivertown Apartments  ...  4cd01f2d6200b1f7dd4ad228\n",
              "6                Nantucket Apartments  ...  4b67708df964a520094f2be3\n",
              "\n",
              "[7 rows x 15 columns]"
            ]
          },
          "metadata": {
            "tags": []
          },
          "execution_count": 75
        }
      ]
    },
    {
      "cell_type": "code",
      "metadata": {
        "id": "q4sciUKRQhPJ",
        "colab_type": "code",
        "colab": {
          "base_uri": "https://localhost:8080/",
          "height": 153
        },
        "outputId": "bdfcf89e-e49b-4e4e-ee58-3c3cd810fe12"
      },
      "source": [
        "dataframe_filtered.name"
      ],
      "execution_count": 76,
      "outputs": [
        {
          "output_type": "execute_result",
          "data": {
            "text/plain": [
              "0    Santa Clara Square Apartment Homes\n",
              "1    Estancia at Santa Clara Apartments\n",
              "2                 Bellavista Apartments\n",
              "3              Bassett Davis Apartments\n",
              "4           Bella Vista Apartments 1518\n",
              "5                  Rivertown Apartments\n",
              "6                  Nantucket Apartments\n",
              "Name: name, dtype: object"
            ]
          },
          "metadata": {
            "tags": []
          },
          "execution_count": 76
        }
      ]
    },
    {
      "cell_type": "code",
      "metadata": {
        "id": "EI3LTGv0QkoB",
        "colab_type": "code",
        "colab": {}
      },
      "source": [
        "df_intel = dataframe_filtered"
      ],
      "execution_count": 0,
      "outputs": []
    },
    {
      "cell_type": "code",
      "metadata": {
        "id": "BFNv8VlGQrT6",
        "colab_type": "code",
        "colab": {
          "base_uri": "https://localhost:8080/",
          "height": 723
        },
        "outputId": "0b172dd1-c48a-4bbe-9996-ada937b4bf42"
      },
      "source": [
        "venues_map = folium.Map(location=[latitude, longitude], zoom_start=13) # generate map centred around the Center\n",
        "\n",
        "# add a red circle marker to represent the Center\n",
        "folium.CircleMarker(\n",
        "    [latitude, longitude],\n",
        "    radius=10,\n",
        "    color='red',\n",
        "    popup='Intel HQ',\n",
        "    fill = True,\n",
        "    fill_color = 'red',\n",
        "    fill_opacity = 0.6\n",
        ").add_to(venues_map)\n",
        "\n",
        "# add the Coffee restaurants as blue circle markers\n",
        "for lat, lng, label in zip(dataframe_filtered.lat, dataframe_filtered.lng, dataframe_filtered.categories):\n",
        "    folium.CircleMarker(\n",
        "        [lat, lng],\n",
        "        radius=5,\n",
        "        color='blue',\n",
        "        popup=label,\n",
        "        fill = True,\n",
        "        fill_color='blue',\n",
        "        fill_opacity=0.6\n",
        "    ).add_to(venues_map)\n",
        "\n",
        "# display map\n",
        "venues_map"
      ],
      "execution_count": 78,
      "outputs": [
        {
          "output_type": "execute_result",
          "data": {
            "text/html": [
              "<div style=\"width:100%;\"><div style=\"position:relative;width:100%;height:0;padding-bottom:60%;\"><iframe src=\"about:blank\" style=\"position:absolute;width:100%;height:100%;left:0;top:0;border:none !important;\" data-html=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 onload=\"this.contentDocument.open();this.contentDocument.write(atob(this.getAttribute('data-html')));this.contentDocument.close();\" allowfullscreen webkitallowfullscreen mozallowfullscreen></iframe></div></div>"
            ],
            "text/plain": [
              "<folium.folium.Map at 0x7f5f9a72f438>"
            ]
          },
          "metadata": {
            "tags": []
          },
          "execution_count": 78
        }
      ]
    },
    {
      "cell_type": "markdown",
      "metadata": {
        "id": "VzUq_4-qETbV",
        "colab_type": "text"
      },
      "source": [
        "## 4. Results"
      ]
    },
    {
      "cell_type": "code",
      "metadata": {
        "id": "J1xERsIILjNS",
        "colab_type": "code",
        "colab": {
          "base_uri": "https://localhost:8080/",
          "height": 221
        },
        "outputId": "e4f562b7-f21e-43ba-985e-1e1f099f793f"
      },
      "source": [
        "df_apple.name"
      ],
      "execution_count": 57,
      "outputs": [
        {
          "output_type": "execute_result",
          "data": {
            "text/plain": [
              "0             The Hamptons at Cupertino\n",
              "1           Shadow Oaks Apartment Homes\n",
              "2           Shadow Oaks Apartment Homes\n",
              "3                     Arioso Apartments\n",
              "4                     Lehigh Apartments\n",
              "5     City Gate at Cupertino Apartments\n",
              "6                Nineteen800 Apartments\n",
              "7      Verandas at Cupertino Apartments\n",
              "8                     Aviare Apartments\n",
              "9     City Gate at Cupertino Apartments\n",
              "10            Harvard Studio Apartments\n",
              "Name: name, dtype: object"
            ]
          },
          "metadata": {
            "tags": []
          },
          "execution_count": 57
        }
      ]
    },
    {
      "cell_type": "code",
      "metadata": {
        "id": "_leljE8KNiZ-",
        "colab_type": "code",
        "colab": {
          "base_uri": "https://localhost:8080/",
          "height": 153
        },
        "outputId": "0c7272f7-acdf-4f71-90ef-170f483b177e"
      },
      "source": [
        "df_google.name"
      ],
      "execution_count": 68,
      "outputs": [
        {
          "output_type": "execute_result",
          "data": {
            "text/plain": [
              "0             St Croix Apartments\n",
              "1       Alpine Meadows Apartments\n",
              "2       Somerset place apartments\n",
              "3              Palmero Apartments\n",
              "4             Woodview Apartments\n",
              "5    Palo Alto Gardens Apartments\n",
              "6           Meadowoods Apartments\n",
              "Name: name, dtype: object"
            ]
          },
          "metadata": {
            "tags": []
          },
          "execution_count": 68
        }
      ]
    },
    {
      "cell_type": "code",
      "metadata": {
        "id": "vsxn1KfjQw12",
        "colab_type": "code",
        "colab": {
          "base_uri": "https://localhost:8080/",
          "height": 153
        },
        "outputId": "4f66e2d8-6a3b-49d3-9815-eeda7295a87a"
      },
      "source": [
        "df_intel.name"
      ],
      "execution_count": 101,
      "outputs": [
        {
          "output_type": "execute_result",
          "data": {
            "text/plain": [
              "0    Santa Clara Square Apartment Homes\n",
              "1    Estancia at Santa Clara Apartments\n",
              "2                 Bellavista Apartments\n",
              "3              Bassett Davis Apartments\n",
              "4           Bella Vista Apartments 1518\n",
              "5                  Rivertown Apartments\n",
              "6                  Nantucket Apartments\n",
              "Name: name, dtype: object"
            ]
          },
          "metadata": {
            "tags": []
          },
          "execution_count": 101
        }
      ]
    },
    {
      "cell_type": "code",
      "metadata": {
        "id": "Y_RwAAfYR8Hj",
        "colab_type": "code",
        "colab": {
          "base_uri": "https://localhost:8080/",
          "height": 80
        },
        "outputId": "562cf619-e40d-470f-ff1d-d82717c7df0b"
      },
      "source": [
        "column_names = [\"Apple\", \"Google\", \"Intel\"]\n",
        "\n",
        "df_comp = pd.DataFrame([[df_apple.name.size, df_google.name.size, df_intel.name.size]], columns=column_names)\n",
        "\n",
        "df_comp"
      ],
      "execution_count": 105,
      "outputs": [
        {
          "output_type": "execute_result",
          "data": {
            "text/html": [
              "<div>\n",
              "<style scoped>\n",
              "    .dataframe tbody tr th:only-of-type {\n",
              "        vertical-align: middle;\n",
              "    }\n",
              "\n",
              "    .dataframe tbody tr th {\n",
              "        vertical-align: top;\n",
              "    }\n",
              "\n",
              "    .dataframe thead th {\n",
              "        text-align: right;\n",
              "    }\n",
              "</style>\n",
              "<table border=\"1\" class=\"dataframe\">\n",
              "  <thead>\n",
              "    <tr style=\"text-align: right;\">\n",
              "      <th></th>\n",
              "      <th>Apple</th>\n",
              "      <th>Google</th>\n",
              "      <th>Intel</th>\n",
              "    </tr>\n",
              "  </thead>\n",
              "  <tbody>\n",
              "    <tr>\n",
              "      <th>0</th>\n",
              "      <td>11</td>\n",
              "      <td>7</td>\n",
              "      <td>7</td>\n",
              "    </tr>\n",
              "  </tbody>\n",
              "</table>\n",
              "</div>"
            ],
            "text/plain": [
              "   Apple  Google  Intel\n",
              "0     11       7      7"
            ]
          },
          "metadata": {
            "tags": []
          },
          "execution_count": 105
        }
      ]
    },
    {
      "cell_type": "code",
      "metadata": {
        "id": "FKzk_78ZU3tw",
        "colab_type": "code",
        "colab": {
          "base_uri": "https://localhost:8080/",
          "height": 400
        },
        "outputId": "9bc17542-f7d2-4ce0-c348-8e97f4538fe7"
      },
      "source": [
        "%matplotlib inline \n",
        "\n",
        "import matplotlib as mpl\n",
        "import matplotlib.pyplot as plt\n",
        "\n",
        "df_comp.plot(kind='bar', figsize=(10, 6))\n",
        "\n",
        "plt.xlabel('March 2020') # add to x-label to the plot\n",
        "plt.ylabel('Number of apartment choices within one mile') # add y-label to the plot\n",
        "plt.title('Number of apartment choices for 3 companies\\' headquarters') # add title to the plot\n",
        "\n",
        "plt.show()"
      ],
      "execution_count": 111,
      "outputs": [
        {
          "output_type": "display_data",
          "data": {
            "image/png": "[encoded data removed]",
            "text/plain": [
              "<Figure size 720x432 with 1 Axes>"
            ]
          },
          "metadata": {
            "tags": []
          }
        }
      ]
    },
    {
      "cell_type": "markdown",
      "metadata": {
        "id": "Jt8sPToOEWdQ",
        "colab_type": "text"
      },
      "source": [
        "## 5. Discussion"
      ]
    },
    {
      "cell_type": "markdown",
      "metadata": {
        "id": "6IVkeOVcW82c",
        "colab_type": "text"
      },
      "source": [
        "This study did not take into account on whether or not the 1-mile distance from the headquarters to the apartments are easily walkable or not. In some cases, the headquaerters and the apartments are spearated by freeways which the pedestrians may not want to walk across."
      ]
    },
    {
      "cell_type": "markdown",
      "metadata": {
        "id": "CbhlwcchEZen",
        "colab_type": "text"
      },
      "source": [
        "## 6. Conclusion"
      ]
    },
    {
      "cell_type": "markdown",
      "metadata": {
        "id": "iBOmUmDXWBPs",
        "colab_type": "text"
      },
      "source": [
        "This study shows that the number of apartment choices nearby Apple headqurater is the highest among the different companies' headquarters chosen in this study in the San Fransisco Bay Area."
      ]
    }
  ]
}