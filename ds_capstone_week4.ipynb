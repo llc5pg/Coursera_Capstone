{
  "nbformat": 4,
  "nbformat_minor": 0,
  "metadata": {
    "colab": {
      "name": "ds_capstone_week4.ipynb",
      "provenance": [],
      "collapsed_sections": []
    },
    "kernelspec": {
      "name": "python3",
      "display_name": "Python 3"
    }
  },
  "cells": [
    {
      "cell_type": "markdown",
      "metadata": {
        "id": "rkVIqcEb_Y0W",
        "colab_type": "text"
      },
      "source": [
        "# This notebook is for the Data Science Capstone Project (Week 4)"
      ]
    },
    {
      "cell_type": "markdown",
      "metadata": {
        "id": "41o5M6eF_cHN",
        "colab_type": "text"
      },
      "source": [
        "## 1. Introduction/Business Problem "
      ]
    },
    {
      "cell_type": "markdown",
      "metadata": {
        "id": "Bkeq7rA7_u7k",
        "colab_type": "text"
      },
      "source": [
        "Many people working in the San Francisco Bay Area are employed at top technology companies. The commute to work is sometimes congested and people prefer to live closer to their work place to reduce commute time.\n",
        "\n",
        "This study investigates the number of choices of apartments within a mile from the headquarters of Apple, Google and Facebook."
      ]
    },
    {
      "cell_type": "markdown",
      "metadata": {
        "id": "BmcqjckI_nXF",
        "colab_type": "text"
      },
      "source": [
        "## 2. Data"
      ]
    },
    {
      "cell_type": "markdown",
      "metadata": {
        "id": "WDmqh1Y1BJKC",
        "colab_type": "text"
      },
      "source": [
        "The data used in this study are dervied from data collected by using the Foursquare API."
      ]
    },
    {
      "cell_type": "markdown",
      "metadata": {
        "id": "T2j7jBU2B2IV",
        "colab_type": "text"
      },
      "source": [
        ""
      ]
    }
  ]
}